{
 "cells": [
  {
   "cell_type": "markdown",
   "id": "2404186c-2952-48d1-ae71-70a965e0210a",
   "metadata": {},
   "source": [
    "# Calculate Correlations Between SMYLE and Obs (or FOSI reconstruction)"
   ]
  },
  {
   "cell_type": "markdown",
   "id": "66261476-d9b0-48ae-b5eb-c7de1b52f330",
   "metadata": {},
   "source": [
    "Sam Mogen"
   ]
  },
  {
   "cell_type": "code",
   "execution_count": 80,
   "id": "f7b1ff65-6f9f-473f-bb9d-1fa932bf8e2f",
   "metadata": {},
   "outputs": [
    {
     "name": "stdout",
     "output_type": "stream",
     "text": [
      "The autoreload extension is already loaded. To reload it, use:\n",
      "  %reload_ext autoreload\n"
     ]
    }
   ],
   "source": [
    "%load_ext autoreload\n",
    "%autoreload 2\n",
    "import xarray as xr \n",
    "import numpy as np  \n",
    "import cftime\n",
    "import copy\n",
    "import scipy.stats\n",
    "from scipy import signal\n",
    "from functools import partial\n",
    "import glob\n",
    "import dask\n",
    "import matplotlib.pyplot as plt\n",
    "%matplotlib inline\n",
    "\n",
    "import esmtools as esmtools\n",
    "import pandas as pd"
   ]
  },
  {
   "cell_type": "code",
   "execution_count": 81,
   "id": "ebde7dc7-9660-46de-9aec-e09b81385fbf",
   "metadata": {},
   "outputs": [],
   "source": [
    "#!pip install geopandas\n",
    "import geopandas as gp"
   ]
  },
  {
   "cell_type": "code",
   "execution_count": 82,
   "id": "a17547a4-5c70-4f09-b326-e2fdd4643525",
   "metadata": {},
   "outputs": [],
   "source": [
    "# !pip install regionmask\n",
    "import regionmask"
   ]
  },
  {
   "cell_type": "code",
   "execution_count": 83,
   "id": "cbf883ca-5059-4f06-a792-e9ef089ebcdd",
   "metadata": {},
   "outputs": [],
   "source": [
    "# SMYLE Utility functions\n",
    "from SMYLEutils import io_utils as io\n",
    "from SMYLEutils import calendar_utils as cal\n",
    "from SMYLEutils import stat_utils as stat"
   ]
  },
  {
   "cell_type": "code",
   "execution_count": 84,
   "id": "d1ad5cef-a3a2-452f-a671-0fac081cc356",
   "metadata": {},
   "outputs": [],
   "source": [
    "import pandas as pd"
   ]
  },
  {
   "cell_type": "markdown",
   "id": "b2243aea-bdac-45f5-be69-2f7c5ab1a415",
   "metadata": {},
   "source": [
    "## Load in regridded SMYLE data"
   ]
  },
  {
   "cell_type": "code",
   "execution_count": 66,
   "id": "cf9cd328-3b44-4cd2-a675-8203a5fba83e",
   "metadata": {},
   "outputs": [],
   "source": [
    "var = 'omega_arag'"
   ]
  },
  {
   "cell_type": "code",
   "execution_count": 68,
   "id": "cc8dd501-7de3-4519-9707-ce49d5ba8e19",
   "metadata": {},
   "outputs": [],
   "source": [
    "omega02 = xr.open_dataset(var+'.02.regrid.nc')\n",
    "omega02_time = xr.open_dataset('omega_arag.02.time.nc')\n",
    "\n",
    "omega05 = xr.open_dataset(var+'.05.regrid.nc')\n",
    "omega05_time = xr.open_dataset('omega_arag.05.time.nc')\n",
    "\n",
    "omega08 = xr.open_dataset(var+'.08.regrid.nc')\n",
    "omega08_time = xr.open_dataset('omega_arag.08.time.nc')\n",
    "\n",
    "omega11 = xr.open_dataset(var+'.11.regrid.nc')\n",
    "omega11_time = xr.open_dataset('omega_arag.11.time.nc')"
   ]
  },
  {
   "cell_type": "code",
   "execution_count": 16,
   "id": "ad644505-b6b0-4ce0-98fc-073b8ae25979",
   "metadata": {},
   "outputs": [],
   "source": [
    "# __xarray_dataarray_variable__\n",
    "var = 'omega_arag'\n",
    "\n",
    "omega02 = omega02[var]\n",
    "omega05 = omega05[var]\n",
    "omega08 = omega08[var]\n",
    "omega11 = omega11[var]"
   ]
  },
  {
   "cell_type": "markdown",
   "id": "4ca2b397-5800-453e-af61-faa30fc3b893",
   "metadata": {},
   "source": [
    "## Load in regridded observational and cesm-le data"
   ]
  },
  {
   "cell_type": "code",
   "execution_count": 17,
   "id": "bc9a118d-5606-4c3d-9f63-5dc85ef382b8",
   "metadata": {},
   "outputs": [],
   "source": [
    "var = 'omega'"
   ]
  },
  {
   "cell_type": "code",
   "execution_count": 18,
   "id": "2e2911dd-bc65-4649-b1fa-fbe4033f1f6b",
   "metadata": {},
   "outputs": [],
   "source": [
    "ice = xr.open_dataset('/glade/work/smogen/SMYLE-personal/SMYLE-FOSI/ECOSYS_IFRAC.regrid.nc')\n",
    "ice = ice.mean(dim='time')"
   ]
  },
  {
   "cell_type": "code",
   "execution_count": 19,
   "id": "9d1a3fd4-a0a6-43fa-8a29-2095338822ae",
   "metadata": {},
   "outputs": [],
   "source": [
    "obs = xr.open_dataset('/glade/work/smogen/SMYLE-personal/OceanSODA-ETHZ_1985-2019_v2020b.regrid2.nc')"
   ]
  },
  {
   "cell_type": "code",
   "execution_count": 17,
   "id": "aae9c88a-b072-4bef-95c4-01c966232be1",
   "metadata": {},
   "outputs": [],
   "source": [
    "var = 'omega'"
   ]
  },
  {
   "cell_type": "code",
   "execution_count": 29,
   "id": "b99f6e8d-dd17-4ad2-9dbb-158826c5e74f",
   "metadata": {},
   "outputs": [],
   "source": [
    "def obs_convert_mon_to_seas(da,field):\n",
    "    \"\"\" Given a monthly xarray DataArray, convert to \n",
    "    seasonal averages and introduce a separate season dimension.\"\"\"\n",
    "    season = xr.DataArray(['DJF','MAM','JJA','SON'],dims='season',name='season')\n",
    "    da_group = cal.mon_to_seas(da).groupby('time.month')\n",
    "    xrlist = []\n",
    "    for i in [1,4,7,10]:\n",
    "        tmp = da_group[i]\n",
    "        tmp = tmp.assign_coords(year=(\"time\", np.unique(tmp.time.dt.year.values)))\n",
    "        tmp = tmp.swap_dims({\"time\": \"year\"})#.to_dataset(name=field)\n",
    "        tmp = tmp.reset_coords([\"time\"])\n",
    "        tmp[\"time\"] = tmp.time.expand_dims(\"season\")\n",
    "        xrlist.append(tmp)\n",
    "    da_seas = xr.concat(xrlist,dim=season)\n",
    "    return da_seas"
   ]
  },
  {
   "cell_type": "code",
   "execution_count": 30,
   "id": "999c2a23-1182-49cc-b19e-b51a0b61a365",
   "metadata": {},
   "outputs": [],
   "source": [
    "def obs_convert_mon_to_seas_persist(da,field):\n",
    "    \"\"\" Given a monthly xarray DataArray, convert to \n",
    "    seasonal averages and introduce a separate season dimension.\"\"\"\n",
    "    season = xr.DataArray(['FMA','MJJ','ASO','NDJ'],dims='season',name='season')\n",
    "    month_length = obs.time.dt.days_in_month\n",
    "    result = ((obs * month_length).resample(time='3M',loffset='45D').sum() / month_length.resample(time='3M',loffset='45D').sum())\n",
    "    \n",
    "    da_group = result.groupby('time.month')\n",
    "    xrlist = []\n",
    "    for i in [3,6,9,12]:\n",
    "        tmp = da_group[i]\n",
    "        tmp = tmp.assign_coords(year=(\"time\", np.unique(tmp.time.dt.year.values)))\n",
    "        tmp = tmp.swap_dims({\"time\": \"year\"})#.to_dataset(name=field)\n",
    "        tmp = tmp.reset_coords([\"time\"])\n",
    "        tmp[\"time\"] = tmp.time.expand_dims(\"season\")\n",
    "        xrlist.append(tmp)\n",
    "    da_seas = xr.concat(xrlist,dim=season)\n",
    "    return da_seas"
   ]
  },
  {
   "cell_type": "markdown",
   "id": "997dbadd-cd38-442e-8b9c-7660f6230734",
   "metadata": {},
   "source": [
    "## convert obs and LE to a seasonal timescale"
   ]
  },
  {
   "cell_type": "code",
   "execution_count": 31,
   "id": "8d5e2650-7e17-400d-8184-f9ea11f6471e",
   "metadata": {},
   "outputs": [],
   "source": [
    "var = 'omegaAR'"
   ]
  },
  {
   "cell_type": "code",
   "execution_count": 32,
   "id": "b4bb8468-8a18-47d5-b4c9-d39ab3451a37",
   "metadata": {},
   "outputs": [],
   "source": [
    "# obs = obs.rename({'temperature':'TEMP'})\n",
    "obs_seas = obs_convert_mon_to_seas(obs,var)#.sel(year=slice(\"1960\",\"2019\"))"
   ]
  },
  {
   "cell_type": "code",
   "execution_count": 33,
   "id": "02191613-2a55-42ba-886a-801ab99e6f9c",
   "metadata": {},
   "outputs": [],
   "source": [
    "obs_seas_persist = obs_convert_mon_to_seas_persist(obs,var)#.sel(year=slice(\"1960\",\"2019\"))"
   ]
  },
  {
   "cell_type": "code",
   "execution_count": 34,
   "id": "1f837691-0aa6-4f42-99fd-95354ed3379e",
   "metadata": {},
   "outputs": [],
   "source": [
    "uninit_seas = obs_convert_mon_to_seas(uninit,var)#.sel(year=slice(\"1960\",\"2019\"))"
   ]
  },
  {
   "cell_type": "code",
   "execution_count": 35,
   "id": "f3cd2c46-d82e-4aab-bde3-e504860b3835",
   "metadata": {},
   "outputs": [],
   "source": [
    "fosi_seas = obs_convert_mon_to_seas(fosi,var)#.sel(year=slice(\"1960\",\"2019\"))\n",
    "dple_fosi_seas = obs_convert_mon_to_seas(dple_fosi,var)"
   ]
  },
  {
   "cell_type": "code",
   "execution_count": 36,
   "id": "12e30770-2741-441e-a28b-f7c794d8bd2d",
   "metadata": {},
   "outputs": [],
   "source": [
    "# create anomaly!\n",
    "obs_seas = obs_seas - obs_seas.mean('year')\n",
    "obs_seas_persist = obs_seas_persist - obs_seas_persist.mean('year')\n",
    "uninit_seas = uninit_seas - uninit_seas.mean('year')\n",
    "fosi_seas = fosi_seas - fosi_seas.mean('year')\n",
    "dple_fosi_seas = dple_fosi_seas - dple_fosi_seas.mean('year')"
   ]
  },
  {
   "cell_type": "markdown",
   "id": "9d2fd06e-e5a8-49b6-b928-8f73c5459ad0",
   "metadata": {},
   "source": [
    "## Create area masks"
   ]
  },
  {
   "cell_type": "code",
   "execution_count": 37,
   "id": "deca6148-467a-48ff-a1cc-7d6354c09877",
   "metadata": {},
   "outputs": [],
   "source": [
    "weights = np.cos(np.deg2rad(obs_seas.lat))\n",
    "weights.name = \"weights\""
   ]
  },
  {
   "cell_type": "code",
   "execution_count": 38,
   "id": "e6f52fa0-36d6-49f2-a58c-e3d8e5bd29a3",
   "metadata": {},
   "outputs": [],
   "source": [
    "# CalCS\n",
    "lmes = gp.read_file(\"/glade/work/smogen/SMYLE-personal/LME66\")\n",
    "reg = lmes[lmes.LME_NAME == 'California Current']\n",
    "lon = fosi_seas.lon\n",
    "lat = fosi_seas.lat\n",
    "mask = regionmask.mask_geopandas(reg, lon, lat)"
   ]
  },
  {
   "cell_type": "code",
   "execution_count": 39,
   "id": "bd7deda0-cab7-4401-978e-0c9bff3f796a",
   "metadata": {},
   "outputs": [],
   "source": [
    "# Nino3.4\n",
    "lat_nino = slice(-5,5)\n",
    "lon_nino = slice(190,240)"
   ]
  },
  {
   "cell_type": "code",
   "execution_count": 40,
   "id": "7cfe5d8b-9ace-41d2-a00d-e3dcb338f39b",
   "metadata": {},
   "outputs": [],
   "source": [
    "# North Atlantic\n",
    "lat_natl = slice(55,60)\n",
    "lon_natl = slice(310,330)"
   ]
  },
  {
   "cell_type": "code",
   "execution_count": 41,
   "id": "b2c0e83e-d589-44ea-970d-0dc8edfaba08",
   "metadata": {},
   "outputs": [],
   "source": [
    "ice = xr.open_dataset('/glade/work/smogen/SMYLE-personal/SMYLE-FOSI/ECOSYS_IFRAC.regrid.nc')\n",
    "ice = ice.mean(dim='time')"
   ]
  },
  {
   "cell_type": "markdown",
   "id": "f79e878c-cd7e-4f32-a15d-e0ad18aacd7a",
   "metadata": {},
   "source": [
    "## Remove Drift"
   ]
  },
  {
   "cell_type": "code",
   "execution_count": 43,
   "id": "2da699c5-06c4-4637-8f10-f9b74a39e25c",
   "metadata": {},
   "outputs": [],
   "source": [
    "# Compute de-drifted anomalies from 1972-2017 climatology\n",
    "smyle11_anom,smyle11_clim = stat.remove_drift(omega11,omega11_time,1972,2017)\n",
    "smyle02_anom,smyle02_clim = stat.remove_drift(omega02,omega02_time,1972,2017)\n",
    "smyle05_anom,smyle05_clim = stat.remove_drift(omega05,omega05_time,1972,2017)\n",
    "smyle08_anom,smyle08_clim = stat.remove_drift(omega08,omega08_time,1972,2017)"
   ]
  },
  {
   "cell_type": "code",
   "execution_count": 44,
   "id": "c74f2e48-4dd0-48bb-a4fa-757ede48bc73",
   "metadata": {},
   "outputs": [],
   "source": [
    "omega02 = smyle02_anom.time\n",
    "omega05 = smyle05_anom.time\n",
    "omega08 = smyle08_anom.time\n",
    "omega11 = smyle11_anom.time"
   ]
  },
  {
   "cell_type": "code",
   "execution_count": 74,
   "id": "cbb2cf12-9273-499e-859c-1201b969c693",
   "metadata": {
    "tags": []
   },
   "outputs": [],
   "source": [
    "# Skill Score Functions\n",
    "import xskillscore as xs\n",
    "import esmtools as stat2\n",
    "\n",
    "def detrend_linear(dat, dim):\n",
    "    \"\"\" linear detrend dat along the axis dim \"\"\"\n",
    "    params = dat.polyfit(dim=dim, deg=1)\n",
    "    fit = xr.polyval(dat[dim], params.polyfit_coefficients)\n",
    "    dat = dat-fit\n",
    "    return dat\n",
    "\n",
    "# def leadtime_corr_byseas(mod_da,mod_time,obs_skill,ref_dple,obs_persist,_da,season,detrend=False):\n",
    "def leadtime_corr_byseas(mod_da,mod_time,obs_skill,obs_persist,init,detrend=False):\n",
    "    \"\"\" \n",
    "    Computes the correlation coefficient between two xarray DataArrays, which \n",
    "    must share the same lat/lon coordinates (if any). Assumes time coordinates are roughly compatible\n",
    "    between model and obs.\n",
    "    \n",
    "        Inputs\n",
    "        mod_da: a seasonally-averaged hindcast DataArray dimensioned (Y,L,M,...)\n",
    "        mod_time: a hindcast time DataArray dimensioned (Y,L). NOTE: assumes mod_time.dt.month\n",
    "            returns mid-month of 3-month seasonal average (e.g., mon=1 ==> \"DJF\").\n",
    "        obs_da: an OBS DataArray dimensioned (time,...) on seasonal timescales\n",
    "        obs_persist: an OBS DataArray dimensioned (time,...) used for the persistence forecast \n",
    "        season\n",
    "    \"\"\"\n",
    "    obs_da = obs_skill\n",
    "    \n",
    "    ens = mod_da.mean('M')\n",
    "    seasons = {1:'DJF',4:'MAM',7:'JJA',10:'SON'}\n",
    "    r_list = []\n",
    "    r2_list = []\n",
    "    p_list = []\n",
    "    a_list = []\n",
    "    \n",
    "    # align the persistence forecast observations with the ensemble\n",
    "    obs_persist = obs_persist\n",
    "    obs_persist['season'] = obs_da['season']\n",
    "    \n",
    "    # try to do autocorrelation:\n",
    "    if init == '02':\n",
    "        j = 3\n",
    "    elif init == '05':\n",
    "        j = 0\n",
    "    elif init == '08':\n",
    "        j = 1\n",
    "    elif init == '11':\n",
    "        j = 2\n",
    "\n",
    "    obs_persist = obs_calcs_persist\n",
    "\n",
    "    obs_persist = obs_persist.isel(season = j)\n",
    "    obs_persist = detrend_linear(obs_persist, 'year')\n",
    "    aut_persist = stat2.stats.autocorr(obs_persist.dropna('year'),nlags=9,dim='year') # autocorrelation\n",
    "    aut_persist = aut_persist.isel(lead=slice(1,9))\n",
    "    aut_persist = aut_persist.rename({'lead':'L'})\n",
    "\n",
    "    #### skill calculations\n",
    "    for i in ens.L.values:\n",
    "        ens_ts = ens.sel(L=i).rename({'Y':'time'})\n",
    "        ens_time_year = mod_time.sel(L=i).dt.year.data\n",
    "        ens_time_month = mod_time.sel(L=i).dt.month.data[0]\n",
    "        \n",
    "        obs_ts = obs_da.sel(season=seasons[ens_time_month]).rename({'year':'time'})\n",
    "        ens_ts = ens_ts.assign_coords(time=(\"time\",ens_time_year))\n",
    "        \n",
    "        a,b = xr.align(ens_ts,obs_ts)\n",
    "        \n",
    "        if detrend:\n",
    "                a = detrend_linear(a,'time')\n",
    "                b = detrend_linear(b,'time')\n",
    "                d = detrend_linear(d,'time')\n",
    "                # persist = detrend_linear(persist,'time')\n",
    "                \n",
    "        r = xr.corr(a,b) # initialized skill\n",
    "        # r2 = xr.corr(b,d) # uninitialized skill\n",
    "\n",
    "        p = xs.pearson_r_eff_p_value(a,b,dim='time',skipna=True) # significance testing\n",
    "                \n",
    "        r_list.append(r)\n",
    "        p_list.append(p)\n",
    "    corr = xr.concat(r_list,ens.L)\n",
    "    corr2 = xr.concat(r2_list,ens.L)\n",
    "    pval = xr.concat(p_list,ens.L)\n",
    "    \n",
    "    aut_persist['season'] = corr.season\n",
    "\n",
    "    return xr.Dataset({'corr':corr,'pval':pval,'auto_val':aut_persist})"
   ]
  },
  {
   "cell_type": "markdown",
   "id": "a0ddb510-5150-4f60-8ac7-9b98bd57f21e",
   "metadata": {
    "tags": []
   },
   "source": [
    "## Mask out Smyle and Obs"
   ]
  },
  {
   "cell_type": "code",
   "execution_count": 46,
   "id": "5b57eddb-a2ca-4c89-bb5d-198439e932b7",
   "metadata": {},
   "outputs": [],
   "source": [
    "var = 'omegaAR'"
   ]
  },
  {
   "cell_type": "code",
   "execution_count": 51,
   "id": "44f5d55e-af0f-44b4-9cc3-bca6272d0667",
   "metadata": {},
   "outputs": [],
   "source": [
    "# CalCS\n",
    "obs_calcs = obs_seas[var].where(mask==9).weighted(weights).mean(dim=('lat','lon'))\n",
    "obs_calcs_persist = obs_seas_persist[var].where(mask==9).weighted(weights).mean(dim=('lat','lon'))\n",
    "\n",
    "# var = 'SST'\n",
    "uninit_calcs = uninit_seas[var].where(mask==9).weighted(weights).mean(dim=('lat','lon'))\n",
    "\n",
    "fosi_calcs = fosi_seas[var].where(mask==9).weighted(weights).mean(dim=('lat','lon'))\n",
    "\n",
    "smyle02_calcs = omega02.where(mask==9).weighted(weights).mean(dim=('lat','lon'))\n",
    "smyle05_calcs = omega05.where(mask==9).weighted(weights).mean(dim=('lat','lon'))\n",
    "smyle08_calcs = omega08.where(mask==9).weighted(weights).mean(dim=('lat','lon'))\n",
    "smyle11_calcs = omega11.where(mask==9).weighted(weights).mean(dim=('lat','lon'))\n",
    "\n",
    "# dple11_calcs = dple11.where(mask==9).weighted(weights).mean(dim=('lat','lon'))"
   ]
  },
  {
   "cell_type": "code",
   "execution_count": 52,
   "id": "f8373000-6ea3-4462-9d66-45f1a1a888e0",
   "metadata": {},
   "outputs": [],
   "source": [
    "# Nino3.4\n",
    "obs_nino = obs_seas[var].sel(lon = lon_nino, lat = lat_nino).weighted(weights).mean(dim=('lat','lon'))\n",
    "obs_nino_persist = obs_seas_persist[var].sel(lon = lon_nino, lat = lat_nino).weighted(weights).mean(dim=('lat','lon'))\n",
    "\n",
    "# var = 'SST'\n",
    "uninit_nino = uninit_seas[var].sel(lon = lon_nino, lat = lat_nino).weighted(weights).mean(dim=('lat','lon'))\n",
    "# var = 'TEMP'\n",
    "\n",
    "fosi_nino = fosi_seas[var].sel(lon = lon_nino, lat = lat_nino).weighted(weights).mean(dim=('lat','lon'))\n",
    "\n",
    "smyle02_nino = omega02.sel(lon = lon_nino, lat = lat_nino).weighted(weights).mean(dim=('lat','lon'))\n",
    "smyle05_nino = omega05.sel(lon = lon_nino, lat = lat_nino).weighted(weights).mean(dim=('lat','lon'))\n",
    "smyle08_nino = omega08.sel(lon = lon_nino, lat = lat_nino).weighted(weights).mean(dim=('lat','lon'))\n",
    "smyle11_nino = omega11.sel(lon = lon_nino, lat = lat_nino).weighted(weights).mean(dim=('lat','lon'))"
   ]
  },
  {
   "cell_type": "code",
   "execution_count": 54,
   "id": "321e8e71-529a-4c80-8f16-8ce3deef801b",
   "metadata": {},
   "outputs": [],
   "source": [
    "# N. Atlantic\n",
    "obs_natl = obs_seas[var].sel(lon = lon_natl, lat = lat_natl).weighted(weights).mean(dim=('lat','lon'))\n",
    "obs_natl_persist = obs_seas_persist[var].sel(lon = lon_natl, lat = lat_natl).weighted(weights).mean(dim=('lat','lon'))\n",
    "\n",
    "# var = 'SST'\n",
    "uninit_natl = uninit_seas[var].sel(lon = lon_natl, lat = lat_natl).weighted(weights).mean(dim=('lat','lon'))\n",
    "# var = 'TEMP'\n",
    "\n",
    "fosi_natl = fosi_seas[var].sel(lon = lon_natl, lat = lat_natl).weighted(weights).mean(dim=('lat','lon'))\n",
    "\n",
    "smyle02_natl = omega02.sel(lon = lon_natl, lat = lat_natl).weighted(weights).mean(dim=('lat','lon'))\n",
    "smyle05_natl = omega05.sel(lon = lon_natl, lat = lat_natl).weighted(weights).mean(dim=('lat','lon'))\n",
    "smyle08_natl = omega08.sel(lon = lon_natl, lat = lat_natl).weighted(weights).mean(dim=('lat','lon'))\n",
    "smyle11_natl = omega11.sel(lon = lon_natl, lat = lat_natl).weighted(weights).mean(dim=('lat','lon'))"
   ]
  },
  {
   "cell_type": "code",
   "execution_count": 56,
   "id": "8b3b0d13-aa2d-4881-b840-1e74bb17f1ad",
   "metadata": {},
   "outputs": [],
   "source": [
    "# Global\n",
    "obs_glob = obs_seas[var].where(ice.ECOSYS_IFRAC == 0, np.NaN).weighted(weights).mean(dim=('lat','lon'))\n",
    "obs_glob_persist = obs_seas_persist[var].where(ice.ECOSYS_IFRAC == 0, np.NaN).weighted(weights).mean(dim=('lat','lon'))\n",
    "\n",
    "# var = 'SST'\n",
    "uninit_glob = uninit_seas[var].where(ice.ECOSYS_IFRAC == 0, np.NaN).weighted(weights).mean(dim=('lat','lon'))\n",
    "# var = 'TEMP'\n",
    "\n",
    "fosi_glob = fosi_seas[var].where(ice.ECOSYS_IFRAC == 0, np.NaN).weighted(weights).mean(dim=('lat','lon'))\n",
    "\n",
    "smyle02_glob = omega02.where(ice.ECOSYS_IFRAC == 0, np.NaN).weighted(weights).mean(dim=('lat','lon'))\n",
    "smyle05_glob = omega05.where(ice.ECOSYS_IFRAC == 0, np.NaN).weighted(weights).mean(dim=('lat','lon'))\n",
    "smyle08_glob = omega08.where(ice.ECOSYS_IFRAC == 0, np.NaN).weighted(weights).mean(dim=('lat','lon'))\n",
    "smyle11_glob = omega11.where(ice.ECOSYS_IFRAC == 0, np.NaN).weighted(weights).mean(dim=('lat','lon'))"
   ]
  },
  {
   "cell_type": "markdown",
   "id": "655e5038-3e70-41b3-9ade-dfdf2f6ea42f",
   "metadata": {},
   "source": [
    "## Calculate ACC for all regions"
   ]
  },
  {
   "cell_type": "code",
   "execution_count": 85,
   "id": "7d3ddbcf-2d13-45eb-a7c7-637fc29b8ef0",
   "metadata": {},
   "outputs": [
    {
     "name": "stdout",
     "output_type": "stream",
     "text": [
      "CPU times: user 1e+03 ns, sys: 1e+03 ns, total: 2 µs\n",
      "Wall time: 4.53 µs\n"
     ]
    }
   ],
   "source": [
    "%%time\n",
    "smyle11_corr_calcs = leadtime_corr_byseas(smyle11_calcs,omega11_time.time,obs_calcs,obs_calcs_persist,'11',detrend=True)\n",
    "smyle02_corr_calcs = leadtime_corr_byseas(smyle02_calcs,omega02_time.time,obs_calcs,obs_calcs_persist,'02',detrend=True)\n",
    "smyle05_corr_calcs = leadtime_corr_byseas(smyle05_calcs,omega05_time.time,obs_calcs,obs_calcs_persist,'05',detrend=True)\n",
    "smyle08_corr_calcs = leadtime_corr_byseas(smyle08_calcs,omega08_time.time,obs_calcs,,obs_calcs_persist,,'08',detrend=True)"
   ]
  },
  {
   "cell_type": "code",
   "execution_count": 203,
   "id": "3bd17825-9515-4bdb-988c-cc578a63308f",
   "metadata": {},
   "outputs": [
    {
     "name": "stdout",
     "output_type": "stream",
     "text": [
      "CPU times: user 1.15 s, sys: 11.9 ms, total: 1.16 s\n",
      "Wall time: 1.2 s\n"
     ]
    }
   ],
   "source": [
    "%%time\n",
    "smyle02_corr_nino = leadtime_corr_byseas(smyle02_nino,omega02_time.time,obs_nino,obs_nino_persist,'02',detrend=True)\n",
    "smyle05_corr_nino = leadtime_corr_byseas(smyle05_nino,omega05_time.time,obs_nino,obs_nino_persist,'05',detrend=True)\n",
    "smyle08_corr_nino = leadtime_corr_byseas(smyle08_nino,omega08_time.time,obs_nino,obs_nino_persist,'08',detrend=True)\n",
    "smyle11_corr_nino = leadtime_corr_byseas(smyle11_nino,omega11_time.time,obs_nino,obs_nino_persist,'11',detrend=True)"
   ]
  },
  {
   "cell_type": "code",
   "execution_count": 204,
   "id": "4ac5f61f-52cd-4a2d-a200-f71ddeb3fc10",
   "metadata": {
    "tags": []
   },
   "outputs": [
    {
     "name": "stdout",
     "output_type": "stream",
     "text": [
      "CPU times: user 1.15 s, sys: 9.2 ms, total: 1.16 s\n",
      "Wall time: 1.18 s\n"
     ]
    }
   ],
   "source": [
    "%%time\n",
    "smyle02_corr_natl = leadtime_corr_byseas(smyle02_natl,omega02_time.time,obs_natl,obs_natl_persist,'02',detrend=True)\n",
    "smyle05_corr_natl = leadtime_corr_byseas(smyle05_natl,omega05_time.time,obs_natl,obs_natl_persist,'05',detrend=True)\n",
    "smyle08_corr_natl = leadtime_corr_byseas(smyle08_natl,omega08_time.time,obs_natl,obs_natl_persist,'08',detrend=True)\n",
    "smyle11_corr_natl = leadtime_corr_byseas(smyle11_natl,omega11_time.time,obs_natl,obs_natl_persist,'11',detrend=True)"
   ]
  },
  {
   "cell_type": "code",
   "execution_count": 205,
   "id": "0ed43865-08d0-4111-8645-ba200f34b89b",
   "metadata": {
    "tags": []
   },
   "outputs": [
    {
     "name": "stdout",
     "output_type": "stream",
     "text": [
      "CPU times: user 1.14 s, sys: 7.92 ms, total: 1.15 s\n",
      "Wall time: 1.17 s\n"
     ]
    }
   ],
   "source": [
    "%%time\n",
    "smyle02_corr_glob = leadtime_corr_byseas(smyle02_glob,omega02_time.time,obs_glob,obs_glob_persist,'02',detrend=True)\n",
    "smyle05_corr_glob = leadtime_corr_byseas(smyle05_glob,omega05_time.time,obs_glob,obs_glob_persist,'05',detrend=True)\n",
    "smyle08_corr_glob = leadtime_corr_byseas(smyle08_glob,omega08_time.time,obs_glob,obs_glob_persist,'08',detrend=True)\n",
    "smyle11_corr_glob = leadtime_corr_byseas(smyle11_glob,omega11_time.time,obs_glob,obs_glob_persist,'11',detrend=True)"
   ]
  },
  {
   "cell_type": "code",
   "execution_count": 180,
   "id": "109dac7e-baf9-4f03-8574-a2379ab61334",
   "metadata": {},
   "outputs": [
    {
     "data": {
      "text/plain": [
       "[<matplotlib.lines.Line2D at 0x2af34a97b940>]"
      ]
     },
     "execution_count": 180,
     "metadata": {},
     "output_type": "execute_result"
    },
    {
     "data": {
      "image/png": "[encoded data removed]",
      "text/plain": [
       "<Figure size 432x288 with 1 Axes>"
      ]
     },
     "metadata": {
      "needs_background": "light"
     },
     "output_type": "display_data"
    }
   ],
   "source": [
    "smyle11_corr_calcs.corr.plot(color='blue')\n",
    "smyle02_corr_calcs.corr.plot(color='k')\n",
    "smyle05_corr_calcs.corr.plot(color='red')\n",
    "smyle08_corr_calcs.corr.plot(color='orange')\n",
    "\n",
    "smyle11_corr_calcs.aut.plot(color='blue',linewidth=0.2)\n",
    "smyle02_corr_calcs.aut.plot(color='k',linewidth=0.2)\n",
    "smyle05_corr_calcs.aut.plot(color='red',linewidth=0.2)\n",
    "smyle08_corr_calcs.aut.plot(color='orange',linewidth=0.2)\n",
    "\n",
    "# dple11_corr_glob.corr.plot(color='orange',linewidth=2)"
   ]
  },
  {
   "cell_type": "code",
   "execution_count": 181,
   "id": "32795f63-d619-4f08-8502-3f1116837d90",
   "metadata": {},
   "outputs": [
    {
     "data": {
      "text/plain": [
       "'omegaAR'"
      ]
     },
     "execution_count": 181,
     "metadata": {},
     "output_type": "execute_result"
    }
   ],
   "source": [
    "var"
   ]
  },
  {
   "cell_type": "code",
   "execution_count": 54,
   "id": "8ce79e49-96cb-4e58-b92e-0672d78bff5b",
   "metadata": {},
   "outputs": [],
   "source": [
    "smyle02_corr_calcs.to_netcdf('/glade/work/smogen/SMYLE-personal/SMYLE-Data/predictability_ts/smyle02.'+var+'.calcs.predictability.nc',mode='w')\n",
    "smyle05_corr_calcs.to_netcdf('/glade/work/smogen/SMYLE-personal/SMYLE-Data/predictability_ts/smyle05.'+var+'.calcs.predictability.nc',mode='w')\n",
    "smyle08_corr_calcs.to_netcdf('/glade/work/smogen/SMYLE-personal/SMYLE-Data/predictability_ts/smyle08.'+var+'.calcs.predictability.nc',mode='w')\n",
    "smyle11_corr_calcs.to_netcdf('/glade/work/smogen/SMYLE-personal/SMYLE-Data/predictability_ts/smyle11.'+var+'.calcs.predictability.nc',mode='w')\n",
    "dple11_corr_calcs.to_netcdf('/glade/work/smogen/SMYLE-personal/SMYLE-Data/predictability_ts/dple11.'+var+'.calcs.predictability.nc',mode='w')\n",
    "\n",
    "smyle02_corr_natl.to_netcdf('/glade/work/smogen/SMYLE-personal/SMYLE-Data/predictability_ts/smyle02.'+var+'.natl.predictability.nc',mode='w')\n",
    "smyle05_corr_natl.to_netcdf('/glade/work/smogen/SMYLE-personal/SMYLE-Data/predictability_ts/smyle05.'+var+'.natl.predictability.nc',mode='w')\n",
    "smyle08_corr_natl.to_netcdf('/glade/work/smogen/SMYLE-personal/SMYLE-Data/predictability_ts/smyle08.'+var+'.natl.predictability.nc',mode='w')\n",
    "smyle11_corr_natl.to_netcdf('/glade/work/smogen/SMYLE-personal/SMYLE-Data/predictability_ts/smyle11.'+var+'.natl.predictability.nc',mode='w')\n",
    "dple11_corr_natl.to_netcdf('/glade/work/smogen/SMYLE-personal/SMYLE-Data/predictability_ts/dple11.'+var+'.natl.predictability.nc',mode='w')\n",
    "\n",
    "smyle02_corr_nino.to_netcdf('/glade/work/smogen/SMYLE-personal/SMYLE-Data/predictability_ts/smyle02.'+var+'.nino.predictability.nc',mode='w')\n",
    "smyle05_corr_nino.to_netcdf('/glade/work/smogen/SMYLE-personal/SMYLE-Data/predictability_ts/smyle05.'+var+'.nino.predictability.nc',mode='w')\n",
    "smyle08_corr_nino.to_netcdf('/glade/work/smogen/SMYLE-personal/SMYLE-Data/predictability_ts/smyle08.'+var+'.nino.predictability.nc',mode='w')\n",
    "smyle11_corr_nino.to_netcdf('/glade/work/smogen/SMYLE-personal/SMYLE-Data/predictability_ts/smyle11.'+var+'.nino.predictability.nc',mode='w')\n",
    "dple11_corr_nino.to_netcdf('/glade/work/smogen/SMYLE-personal/SMYLE-Data/predictability_ts/dple11.'+var+'.nino.predictability.nc',mode='w')\n",
    "\n",
    "smyle02_corr_glob.to_netcdf('/glade/work/smogen/SMYLE-personal/SMYLE-Data/predictability_ts/smyle02.'+var+'.glob.predictability.nc',mode='w')\n",
    "smyle05_corr_glob.to_netcdf('/glade/work/smogen/SMYLE-personal/SMYLE-Data/predictability_ts/smyle05.'+var+'.glob.predictability.nc',mode='w')\n",
    "smyle08_corr_glob.to_netcdf('/glade/work/smogen/SMYLE-personal/SMYLE-Data/predictability_ts/smyle08.'+var+'.glob.predictability.nc',mode='w')\n",
    "smyle11_corr_glob.to_netcdf('/glade/work/smogen/SMYLE-personal/SMYLE-Data/predictability_ts/smyle11.'+var+'.glob.predictability.nc',mode='w')\n",
    "dple11_corr_glob.to_netcdf('/glade/work/smogen/SMYLE-personal/SMYLE-Data/predictability_ts/dple11.'+var+'.glob.predictability.nc',mode='w')"
   ]
  },
  {
   "cell_type": "code",
   "execution_count": 1,
   "id": "473684bd-0aa1-4995-88c7-95a59b9c7e86",
   "metadata": {},
   "outputs": [],
   "source": [
    "var = 'omega'"
   ]
  },
  {
   "cell_type": "code",
   "execution_count": 21,
   "id": "4d46b27e-7fea-4ffd-a8d9-ddfac87e85be",
   "metadata": {},
   "outputs": [],
   "source": [
    "tmp = xr.open_dataset('/glade/work/smogen/SMYLE-personal/SMYLE-Data/timeseries/smyle02.'+var+'.calcs.nc')\n",
    "# smyle05_corr_calcs = xr.open_dataset('/glade/work/smogen/SMYLE-personal/SMYLE-Data/timeseries/smyle05.'+var+'.calcs.nc')\n",
    "# smyle08_corr_calcs = xr.open_dataset('/glade/work/smogen/SMYLE-personal/SMYLE-Data/timeseries/smyle08.'+var+'.calcs.nc',mode='w')\n",
    "# smyle11_corr_calcs = xr.open_dataset('/glade/work/smogen/SMYLE-personal/SMYLE-Data/timeseries/smyle11.'+var+'.calcs.nc',mode='w')\n",
    "# # dple11_corr_calcs = xr.open_dataset('/glade/work/smogen/SMYLE-personal/SMYLE-Data/timeseries/dple11.'+var+'.calcs.predictability.nc',mode='w')\n",
    "\n",
    "# smyle02_corr_natl = xr.open_dataset('/glade/work/smogen/SMYLE-personal/SMYLE-Data/timeseries/smyle02.'+var+'.natl.nc',mode='w')\n",
    "# smyle05_corr_natl = xr.open_dataset('/glade/work/smogen/SMYLE-personal/SMYLE-Data/timeseries/smyle05.'+var+'.natl.nc',mode='w')\n",
    "# smyle08_corr_natl = xr.open_dataset('/glade/work/smogen/SMYLE-personal/SMYLE-Data/timeseries/smyle08.'+var+'.natl.nc',mode='w')\n",
    "# smyle11_corr_natl = xr.open_dataset('/glade/work/smogen/SMYLE-personal/SMYLE-Data/timeseries/smyle11.'+var+'.natl.nc',mode='w')\n",
    "# # dple11_corr_natl = xr.open_dataset('/glade/work/smogen/SMYLE-personal/SMYLE-Data/timeseries/dple11.'+var+'.natl.predictability.nc',mode='w')\n",
    "\n",
    "# smyle02_corr_nino = xr.open_dataset('/glade/work/smogen/SMYLE-personal/SMYLE-Data/timeseries/smyle02.'+var+'.nino.nc',mode='w')\n",
    "# smyle05_corr_nino = xr.open_dataset('/glade/work/smogen/SMYLE-personal/SMYLE-Data/timeseries/smyle05.'+var+'.nino.nc',mode='w')\n",
    "# smyle08_corr_nino = xr.open_dataset('/glade/work/smogen/SMYLE-personal/SMYLE-Data/timeseries/smyle08.'+var+'.nino.nc',mode='w')\n",
    "# smyle11_corr_nino = xr.open_dataset('/glade/work/smogen/SMYLE-personal/SMYLE-Data/timeseries/smyle11.'+var+'.nino.nc',mode='w')\n",
    "# # dple11_corr_nino.to_netcdf('/glade/work/smogen/SMYLE-personal/SMYLE-Data/timeseries/dple11.'+var+'.nino.predictability.nc',mode='w')\n",
    "\n",
    "# smyle02_corr_glob = xr.open_dataset('/glade/work/smogen/SMYLE-personal/SMYLE-Data/timeseries/smyle02.'+var+'.glob.nc',mode='w')\n",
    "# smyle05_corr_glob = xr.open_dataset('/glade/work/smogen/SMYLE-personal/SMYLE-Data/timeseries/smyle05.'+var+'.glob.nc',mode='w')\n",
    "# smyle08_corr_glob = xr.open_dataset('/glade/work/smogen/SMYLE-personal/SMYLE-Data/timeseries/smyle08.'+var+'.glob.nc',mode='w')\n",
    "# smyle11_corr_glob = xr.open_dataset('/glade/work/smogen/SMYLE-personal/SMYLE-Data/timeseries/smyle11.'+var+'.glob.nc',mode='w')\n",
    "# # dple11_corr_glob.to_netcdf('/glade/work/smogen/SMYLE-personal/SMYLE-Data/timeseries/dple11.'+var+'.glob.predictability.nc',mode='w')"
   ]
  },
  {
   "cell_type": "code",
   "execution_count": 20,
   "id": "2029a4e9-1eb0-4ee5-af34-1dad94ebe787",
   "metadata": {},
   "outputs": [
    {
     "data": {
      "text/html": [
       "<div><svg style=\"position: absolute; width: 0; height: 0; overflow: hidden\">\n",
       "<defs>\n",
       "<symbol id=\"icon-database\" viewBox=\"0 0 32 32\">\n",
       "<path d=\"M16 0c-8.837 0-16 2.239-16 5v4c0 2.761 7.163 5 16 5s16-2.239 16-5v-4c0-2.761-7.163-5-16-5z\"></path>\n",
       "<path d=\"M16 17c-8.837 0-16-2.239-16-5v6c0 2.761 7.163 5 16 5s16-2.239 16-5v-6c0 2.761-7.163 5-16 5z\"></path>\n",
       "<path d=\"M16 26c-8.837 0-16-2.239-16-5v6c0 2.761 7.163 5 16 5s16-2.239 16-5v-6c0 2.761-7.163 5-16 5z\"></path>\n",
       "</symbol>\n",
       "<symbol id=\"icon-file-text2\" viewBox=\"0 0 32 32\">\n",
       "<path d=\"M28.681 7.159c-0.694-0.947-1.662-2.053-2.724-3.116s-2.169-2.030-3.116-2.724c-1.612-1.182-2.393-1.319-2.841-1.319h-15.5c-1.378 0-2.5 1.121-2.5 2.5v27c0 1.378 1.122 2.5 2.5 2.5h23c1.378 0 2.5-1.122 2.5-2.5v-19.5c0-0.448-0.137-1.23-1.319-2.841zM24.543 5.457c0.959 0.959 1.712 1.825 2.268 2.543h-4.811v-4.811c0.718 0.556 1.584 1.309 2.543 2.268zM28 29.5c0 0.271-0.229 0.5-0.5 0.5h-23c-0.271 0-0.5-0.229-0.5-0.5v-27c0-0.271 0.229-0.5 0.5-0.5 0 0 15.499-0 15.5 0v7c0 0.552 0.448 1 1 1h7v19.5z\"></path>\n",
       "<path d=\"M23 26h-14c-0.552 0-1-0.448-1-1s0.448-1 1-1h14c0.552 0 1 0.448 1 1s-0.448 1-1 1z\"></path>\n",
       "<path d=\"M23 22h-14c-0.552 0-1-0.448-1-1s0.448-1 1-1h14c0.552 0 1 0.448 1 1s-0.448 1-1 1z\"></path>\n",
       "<path d=\"M23 18h-14c-0.552 0-1-0.448-1-1s0.448-1 1-1h14c0.552 0 1 0.448 1 1s-0.448 1-1 1z\"></path>\n",
       "</symbol>\n",
       "</defs>\n",
       "</svg>\n",
       "<style>/* CSS stylesheet for displaying xarray objects in jupyterlab.\n",
       " *\n",
       " */\n",
       "\n",
       ":root {\n",
       "  --xr-font-color0: var(--jp-content-font-color0, rgba(0, 0, 0, 1));\n",
       "  --xr-font-color2: var(--jp-content-font-color2, rgba(0, 0, 0, 0.54));\n",
       "  --xr-font-color3: var(--jp-content-font-color3, rgba(0, 0, 0, 0.38));\n",
       "  --xr-border-color: var(--jp-border-color2, #e0e0e0);\n",
       "  --xr-disabled-color: var(--jp-layout-color3, #bdbdbd);\n",
       "  --xr-background-color: var(--jp-layout-color0, white);\n",
       "  --xr-background-color-row-even: var(--jp-layout-color1, white);\n",
       "  --xr-background-color-row-odd: var(--jp-layout-color2, #eeeeee);\n",
       "}\n",
       "\n",
       "html[theme=dark],\n",
       "body.vscode-dark {\n",
       "  --xr-font-color0: rgba(255, 255, 255, 1);\n",
       "  --xr-font-color2: rgba(255, 255, 255, 0.54);\n",
       "  --xr-font-color3: rgba(255, 255, 255, 0.38);\n",
       "  --xr-border-color: #1F1F1F;\n",
       "  --xr-disabled-color: #515151;\n",
       "  --xr-background-color: #111111;\n",
       "  --xr-background-color-row-even: #111111;\n",
       "  --xr-background-color-row-odd: #313131;\n",
       "}\n",
       "\n",
       ".xr-wrap {\n",
       "  display: block;\n",
       "  min-width: 300px;\n",
       "  max-width: 700px;\n",
       "}\n",
       "\n",
       ".xr-text-repr-fallback {\n",
       "  /* fallback to plain text repr when CSS is not injected (untrusted notebook) */\n",
       "  display: none;\n",
       "}\n",
       "\n",
       ".xr-header {\n",
       "  padding-top: 6px;\n",
       "  padding-bottom: 6px;\n",
       "  margin-bottom: 4px;\n",
       "  border-bottom: solid 1px var(--xr-border-color);\n",
       "}\n",
       "\n",
       ".xr-header > div,\n",
       ".xr-header > ul {\n",
       "  display: inline;\n",
       "  margin-top: 0;\n",
       "  margin-bottom: 0;\n",
       "}\n",
       "\n",
       ".xr-obj-type,\n",
       ".xr-array-name {\n",
       "  margin-left: 2px;\n",
       "  margin-right: 10px;\n",
       "}\n",
       "\n",
       ".xr-obj-type {\n",
       "  color: var(--xr-font-color2);\n",
       "}\n",
       "\n",
       ".xr-sections {\n",
       "  padding-left: 0 !important;\n",
       "  display: grid;\n",
       "  grid-template-columns: 150px auto auto 1fr 20px 20px;\n",
       "}\n",
       "\n",
       ".xr-section-item {\n",
       "  display: contents;\n",
       "}\n",
       "\n",
       ".xr-section-item input {\n",
       "  display: none;\n",
       "}\n",
       "\n",
       ".xr-section-item input + label {\n",
       "  color: var(--xr-disabled-color);\n",
       "}\n",
       "\n",
       ".xr-section-item input:enabled + label {\n",
       "  cursor: pointer;\n",
       "  color: var(--xr-font-color2);\n",
       "}\n",
       "\n",
       ".xr-section-item input:enabled + label:hover {\n",
       "  color: var(--xr-font-color0);\n",
       "}\n",
       "\n",
       ".xr-section-summary {\n",
       "  grid-column: 1;\n",
       "  color: var(--xr-font-color2);\n",
       "  font-weight: 500;\n",
       "}\n",
       "\n",
       ".xr-section-summary > span {\n",
       "  display: inline-block;\n",
       "  padding-left: 0.5em;\n",
       "}\n",
       "\n",
       ".xr-section-summary-in:disabled + label {\n",
       "  color: var(--xr-font-color2);\n",
       "}\n",
       "\n",
       ".xr-section-summary-in + label:before {\n",
       "  display: inline-block;\n",
       "  content: '►';\n",
       "  font-size: 11px;\n",
       "  width: 15px;\n",
       "  text-align: center;\n",
       "}\n",
       "\n",
       ".xr-section-summary-in:disabled + label:before {\n",
       "  color: var(--xr-disabled-color);\n",
       "}\n",
       "\n",
       ".xr-section-summary-in:checked + label:before {\n",
       "  content: '▼';\n",
       "}\n",
       "\n",
       ".xr-section-summary-in:checked + label > span {\n",
       "  display: none;\n",
       "}\n",
       "\n",
       ".xr-section-summary,\n",
       ".xr-section-inline-details {\n",
       "  padding-top: 4px;\n",
       "  padding-bottom: 4px;\n",
       "}\n",
       "\n",
       ".xr-section-inline-details {\n",
       "  grid-column: 2 / -1;\n",
       "}\n",
       "\n",
       ".xr-section-details {\n",
       "  display: none;\n",
       "  grid-column: 1 / -1;\n",
       "  margin-bottom: 5px;\n",
       "}\n",
       "\n",
       ".xr-section-summary-in:checked ~ .xr-section-details {\n",
       "  display: contents;\n",
       "}\n",
       "\n",
       ".xr-array-wrap {\n",
       "  grid-column: 1 / -1;\n",
       "  display: grid;\n",
       "  grid-template-columns: 20px auto;\n",
       "}\n",
       "\n",
       ".xr-array-wrap > label {\n",
       "  grid-column: 1;\n",
       "  vertical-align: top;\n",
       "}\n",
       "\n",
       ".xr-preview {\n",
       "  color: var(--xr-font-color3);\n",
       "}\n",
       "\n",
       ".xr-array-preview,\n",
       ".xr-array-data {\n",
       "  padding: 0 5px !important;\n",
       "  grid-column: 2;\n",
       "}\n",
       "\n",
       ".xr-array-data,\n",
       ".xr-array-in:checked ~ .xr-array-preview {\n",
       "  display: none;\n",
       "}\n",
       "\n",
       ".xr-array-in:checked ~ .xr-array-data,\n",
       ".xr-array-preview {\n",
       "  display: inline-block;\n",
       "}\n",
       "\n",
       ".xr-dim-list {\n",
       "  display: inline-block !important;\n",
       "  list-style: none;\n",
       "  padding: 0 !important;\n",
       "  margin: 0;\n",
       "}\n",
       "\n",
       ".xr-dim-list li {\n",
       "  display: inline-block;\n",
       "  padding: 0;\n",
       "  margin: 0;\n",
       "}\n",
       "\n",
       ".xr-dim-list:before {\n",
       "  content: '(';\n",
       "}\n",
       "\n",
       ".xr-dim-list:after {\n",
       "  content: ')';\n",
       "}\n",
       "\n",
       ".xr-dim-list li:not(:last-child):after {\n",
       "  content: ',';\n",
       "  padding-right: 5px;\n",
       "}\n",
       "\n",
       ".xr-has-index {\n",
       "  font-weight: bold;\n",
       "}\n",
       "\n",
       ".xr-var-list,\n",
       ".xr-var-item {\n",
       "  display: contents;\n",
       "}\n",
       "\n",
       ".xr-var-item > div,\n",
       ".xr-var-item label,\n",
       ".xr-var-item > .xr-var-name span {\n",
       "  background-color: var(--xr-background-color-row-even);\n",
       "  margin-bottom: 0;\n",
       "}\n",
       "\n",
       ".xr-var-item > .xr-var-name:hover span {\n",
       "  padding-right: 5px;\n",
       "}\n",
       "\n",
       ".xr-var-list > li:nth-child(odd) > div,\n",
       ".xr-var-list > li:nth-child(odd) > label,\n",
       ".xr-var-list > li:nth-child(odd) > .xr-var-name span {\n",
       "  background-color: var(--xr-background-color-row-odd);\n",
       "}\n",
       "\n",
       ".xr-var-name {\n",
       "  grid-column: 1;\n",
       "}\n",
       "\n",
       ".xr-var-dims {\n",
       "  grid-column: 2;\n",
       "}\n",
       "\n",
       ".xr-var-dtype {\n",
       "  grid-column: 3;\n",
       "  text-align: right;\n",
       "  color: var(--xr-font-color2);\n",
       "}\n",
       "\n",
       ".xr-var-preview {\n",
       "  grid-column: 4;\n",
       "}\n",
       "\n",
       ".xr-var-name,\n",
       ".xr-var-dims,\n",
       ".xr-var-dtype,\n",
       ".xr-preview,\n",
       ".xr-attrs dt {\n",
       "  white-space: nowrap;\n",
       "  overflow: hidden;\n",
       "  text-overflow: ellipsis;\n",
       "  padding-right: 10px;\n",
       "}\n",
       "\n",
       ".xr-var-name:hover,\n",
       ".xr-var-dims:hover,\n",
       ".xr-var-dtype:hover,\n",
       ".xr-attrs dt:hover {\n",
       "  overflow: visible;\n",
       "  width: auto;\n",
       "  z-index: 1;\n",
       "}\n",
       "\n",
       ".xr-var-attrs,\n",
       ".xr-var-data {\n",
       "  display: none;\n",
       "  background-color: var(--xr-background-color) !important;\n",
       "  padding-bottom: 5px !important;\n",
       "}\n",
       "\n",
       ".xr-var-attrs-in:checked ~ .xr-var-attrs,\n",
       ".xr-var-data-in:checked ~ .xr-var-data {\n",
       "  display: block;\n",
       "}\n",
       "\n",
       ".xr-var-data > table {\n",
       "  float: right;\n",
       "}\n",
       "\n",
       ".xr-var-name span,\n",
       ".xr-var-data,\n",
       ".xr-attrs {\n",
       "  padding-left: 25px !important;\n",
       "}\n",
       "\n",
       ".xr-attrs,\n",
       ".xr-var-attrs,\n",
       ".xr-var-data {\n",
       "  grid-column: 1 / -1;\n",
       "}\n",
       "\n",
       "dl.xr-attrs {\n",
       "  padding: 0;\n",
       "  margin: 0;\n",
       "  display: grid;\n",
       "  grid-template-columns: 125px auto;\n",
       "}\n",
       "\n",
       ".xr-attrs dt,\n",
       ".xr-attrs dd {\n",
       "  padding: 0;\n",
       "  margin: 0;\n",
       "  float: left;\n",
       "  padding-right: 10px;\n",
       "  width: auto;\n",
       "}\n",
       "\n",
       ".xr-attrs dt {\n",
       "  font-weight: normal;\n",
       "  grid-column: 1;\n",
       "}\n",
       "\n",
       ".xr-attrs dt:hover span {\n",
       "  display: inline-block;\n",
       "  background: var(--xr-background-color);\n",
       "  padding-right: 10px;\n",
       "}\n",
       "\n",
       ".xr-attrs dd {\n",
       "  grid-column: 2;\n",
       "  white-space: pre-wrap;\n",
       "  word-break: break-all;\n",
       "}\n",
       "\n",
       ".xr-icon-database,\n",
       ".xr-icon-file-text2 {\n",
       "  display: inline-block;\n",
       "  vertical-align: middle;\n",
       "  width: 1em;\n",
       "  height: 1.5em !important;\n",
       "  stroke-width: 0;\n",
       "  stroke: currentColor;\n",
       "  fill: currentColor;\n",
       "}\n",
       "</style><pre class='xr-text-repr-fallback'>&lt;xarray.Dataset&gt;\n",
       "Dimensions:  ()\n",
       "Data variables:\n",
       "    *empty*</pre><div class='xr-wrap' hidden><div class='xr-header'><div class='xr-obj-type'>xarray.Dataset</div></div><ul class='xr-sections'><li class='xr-section-item'><input id='section-75a03823-8e43-4dc9-b6fd-f4969814e3b7' class='xr-section-summary-in' type='checkbox' disabled ><label for='section-75a03823-8e43-4dc9-b6fd-f4969814e3b7' class='xr-section-summary'  title='Expand/collapse section'>Dimensions:</label><div class='xr-section-inline-details'></div><div class='xr-section-details'></div></li><li class='xr-section-item'><input id='section-c4ae0436-3e6f-4892-a8f4-9e6d5c75322d' class='xr-section-summary-in' type='checkbox' disabled ><label for='section-c4ae0436-3e6f-4892-a8f4-9e6d5c75322d' class='xr-section-summary'  title='Expand/collapse section'>Coordinates: <span>(0)</span></label><div class='xr-section-inline-details'></div><div class='xr-section-details'><ul class='xr-var-list'></ul></div></li><li class='xr-section-item'><input id='section-718cc57c-f09b-415b-adc3-c948dd91a6d8' class='xr-section-summary-in' type='checkbox' disabled ><label for='section-718cc57c-f09b-415b-adc3-c948dd91a6d8' class='xr-section-summary'  title='Expand/collapse section'>Data variables: <span>(0)</span></label><div class='xr-section-inline-details'></div><div class='xr-section-details'><ul class='xr-var-list'></ul></div></li><li class='xr-section-item'><input id='section-c5251182-9f76-4de5-aa1e-71bfb6a83cf0' class='xr-section-summary-in' type='checkbox' disabled ><label for='section-c5251182-9f76-4de5-aa1e-71bfb6a83cf0' class='xr-section-summary'  title='Expand/collapse section'>Attributes: <span>(0)</span></label><div class='xr-section-inline-details'></div><div class='xr-section-details'><dl class='xr-attrs'></dl></div></li></ul></div></div>"
      ],
      "text/plain": [
       "<xarray.Dataset>\n",
       "Dimensions:  ()\n",
       "Data variables:\n",
       "    *empty*"
      ]
     },
     "execution_count": 20,
     "metadata": {},
     "output_type": "execute_result"
    }
   ],
   "source": [
    "smyle05_corr_calcs"
   ]
  },
  {
   "cell_type": "markdown",
   "id": "434146a9-e5d9-417e-adb2-f96628340e70",
   "metadata": {
    "tags": []
   },
   "source": [
    "## combine all the data"
   ]
  },
  {
   "cell_type": "code",
   "execution_count": 206,
   "id": "011f731d-0e8e-4944-be18-985bb3e4c367",
   "metadata": {},
   "outputs": [],
   "source": [
    "#calcs\n",
    "smyle11_skill_reg1 = smyle11_corr_calcs\n",
    "smyle02_skill_reg1 = smyle02_corr_calcs\n",
    "smyle05_skill_reg1 = smyle05_corr_calcs\n",
    "smyle08_skill_reg1 = smyle08_corr_calcs\n",
    "\n",
    "#nino3.4\n",
    "smyle11_skill_reg2 = smyle11_corr_nino\n",
    "smyle02_skill_reg2 = smyle02_corr_nino\n",
    "smyle05_skill_reg2 = smyle05_corr_nino\n",
    "smyle08_skill_reg2 = smyle08_corr_nino\n",
    "\n",
    "#natl\n",
    "smyle11_skill_reg3 = smyle11_corr_natl\n",
    "smyle02_skill_reg3 = smyle02_corr_natl\n",
    "smyle05_skill_reg3 = smyle05_corr_natl\n",
    "smyle08_skill_reg3 = smyle08_corr_natl\n",
    "\n",
    "region1title = 'CalCS'\n",
    "region2title = 'Nino3.4'\n",
    "region3title = 'North Atlantic'"
   ]
  },
  {
   "cell_type": "code",
   "execution_count": 207,
   "id": "54154a18-0379-433f-8ff0-ff6e30be2ffd",
   "metadata": {},
   "outputs": [],
   "source": [
    "# combine skill score xarrays for plotting\n",
    "startmonth= xr.DataArray([11,2,5,8],name='startmonth',dims='startmonth')\n",
    "region = xr.DataArray([1,2,3],name='region',dims='region')\n",
    "reg1_skill = xr.concat([smyle11_skill_reg1,smyle02_skill_reg1,smyle05_skill_reg1,smyle08_skill_reg1],dim=startmonth)\n",
    "reg2_skill = xr.concat([smyle11_skill_reg2,smyle02_skill_reg2,smyle05_skill_reg2,smyle08_skill_reg2],dim=startmonth)\n",
    "reg3_skill = xr.concat([smyle11_skill_reg3,smyle02_skill_reg3,smyle05_skill_reg3,smyle08_skill_reg3],dim=startmonth)\n",
    "reg_skill = xr.concat([reg1_skill,reg2_skill,reg3_skill],dim=region)\n",
    "regiontitle = xr.DataArray([region1title,region2title,region3title],name='regiontitle',dims='region')\n",
    "reg_skill['regiontitle'] = regiontitle\n"
   ]
  },
  {
   "cell_type": "code",
   "execution_count": 208,
   "id": "1f711056-7afa-428b-8aa6-e5782c114b5f",
   "metadata": {},
   "outputs": [],
   "source": [
    "reg1_skill.to_netcdf('/glade/work/smogen/SMYLE-personal/steve.reg1.calcs.nc')\n",
    "reg2_skill.to_netcdf('/glade/work/smogen/SMYLE-personal/steve.reg2.nino.nc')\n",
    "reg3_skill.to_netcdf('/glade/work/smogen/SMYLE-personal/steve.reg3.natl.nc')"
   ]
  },
  {
   "cell_type": "code",
   "execution_count": 211,
   "id": "d3695bf8-26bd-472d-8451-7d83946c3753",
   "metadata": {},
   "outputs": [
    {
     "data": {
      "image/png": "[encoded data removed]",
      "text/plain": [
       "<Figure size 1296x432 with 3 Axes>"
      ]
     },
     "metadata": {
      "needs_background": "light"
     },
     "output_type": "display_data"
    }
   ],
   "source": [
    "# plot skill scores\n",
    "fig = plt.figure(figsize=(18,6))\n",
    "plt.rcParams['font.size'] = '14'\n",
    "leadmon = smyle11_skill_reg1.L[0:7]\n",
    "# seasons = ['DJF','MAM','JJA','SON']\n",
    "seasons = ['DJF','MAM','JJA','SON',]\n",
    "\n",
    "markers = ['D','o','s','P']\n",
    "colors = ['k','r','g','b']\n",
    "\n",
    "hindcasts = ['NOV','FEB','MAY','AUG']\n",
    "figlabs = [['a.','b.','c.'],['d.','e.','f.']]\n",
    "\n",
    "ncol = 3\n",
    "nrow = 1\n",
    "\n",
    "for i in range(ncol):\n",
    "    ax = fig.add_subplot(nrow,ncol,i+1)\n",
    "    ax.plot(leadmon,reg_skill.isel(L=slice(0,7)).isel(region=0,startmonth=0).auto_val,'--',color='k',linewidth=1,label='Persistence')\n",
    "    if i==0: ax.set_ylabel('ACC', fontsize=14)\n",
    "    ax.set_title(figlabs[0][i]+' {}, Correlation'.format(reg_skill.isel(region=i).regiontitle.values),loc='left')\n",
    "    for j in range(4):\n",
    "        ax.plot(leadmon,reg_skill.isel(L=slice(0,7)).isel(region=i,startmonth=j).corr,color=colors[j],linewidth=2,label='SMYLE-'+hindcasts[j])\n",
    "        for k,l in zip(seasons,markers):\n",
    "            tmp = reg_skill.isel(L=slice(0,7)).isel(region=i,startmonth=j)\n",
    "            ax.plot(leadmon,tmp.corr.where(tmp.season==k),color=colors[j],marker=l,markersize=11,fillstyle='none')\n",
    "            ax.plot(leadmon,tmp.corr.where(tmp.season==k).where(tmp.pval<0.1),color=colors[j],marker=l,markersize=11)\n",
    "        \n",
    "#         ax.plot(leadmon,reg_skill.isel(region=0,startmonth=0).auto_val,'--',color='k',linewidth=0.5,label='Persistence')\n",
    "        ax.plot(leadmon,reg_skill.isel(L=slice(0,7)).isel(region=i,startmonth=j).auto_val,'--',color=colors[j],linewidth=1)\n",
    "        \n",
    "    # if i==2: leg1 = ax.legend(loc='lower left',ncol=1)\n",
    "    ax.set_xticks(leadmon)\n",
    "    ax.grid(True)\n",
    "    ax.set_xlim([0,20])\n",
    "    ax.set_ylim([-0.4,1])\n",
    "        \n",
    "    ax.set_xticks(ticks=leadmon)\n",
    "    # ax.set_xticklabels(labels=['1','4','7','10','13','16','19','22'])\n",
    "    ax.set_xticklabels(labels=['1','4','7','10','13','16','19'])\n",
    "    ax.set_xlabel('Lead Month')\n",
    "    ax.grid(True)\n",
    "    ax.set_xlim([0,8])\n",
    "    ax.set_ylim([-0.4,1])\n",
    "    \n",
    "plt.savefig('SMYLE_seasonalSSTindices_skill.pdf')"
   ]
  }
 ],
 "metadata": {
  "kernelspec": {
   "display_name": "Python [conda env:.conda-smyle-analysis]",
   "language": "python",
   "name": "conda-env-.conda-smyle-analysis-py"
  },
  "language_info": {
   "codemirror_mode": {
    "name": "ipython",
    "version": 3
   },
   "file_extension": ".py",
   "mimetype": "text/x-python",
   "name": "python",
   "nbconvert_exporter": "python",
   "pygments_lexer": "ipython3",
   "version": "3.8.0"
  }
 },
 "nbformat": 4,
 "nbformat_minor": 5
}
