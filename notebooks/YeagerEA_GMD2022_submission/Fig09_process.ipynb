{
 "cells": [
  {
   "cell_type": "markdown",
   "id": "0ea466d2-67de-478a-b9d0-c6614cf8169a",
   "metadata": {},
   "source": [
    "# Compute SMYLE OA skill"
   ]
  },
  {
   "cell_type": "code",
   "execution_count": 2,
   "id": "427731c5-0c79-4627-997a-bab08e97c9b3",
   "metadata": {},
   "outputs": [],
   "source": [
    "%load_ext autoreload\n",
    "%autoreload 2\n",
    "import xarray as xr \n",
    "import numpy as np  \n",
    "import cftime\n",
    "import copy\n",
    "import scipy.stats\n",
    "from scipy import signal\n",
    "import matplotlib.pyplot as plt\n",
    "import cartopy.crs as ccrs\n",
    "%matplotlib inline\n",
    "\n",
    "from SMYLEutils import calendar_utils as cal\n",
    "from SMYLEutils import stat_utils as stat\n",
    "from SMYLEutils import mapplot_utils as maps\n",
    "from SMYLEutils import colorbar_utils as cbars\n",
    "from SMYLEutils import io_utils as io"
   ]
  },
  {
   "cell_type": "code",
   "execution_count": 3,
   "id": "2aff7d80-56e4-4a51-98c8-60c591787b13",
   "metadata": {},
   "outputs": [
    {
     "data": {
      "text/plain": [
       "'2.14.0'"
      ]
     },
     "execution_count": 3,
     "metadata": {},
     "output_type": "execute_result"
    }
   ],
   "source": [
    "import dask\n",
    "from dask.distributed import wait\n",
    "dask.__version__"
   ]
  },
  {
   "cell_type": "markdown",
   "id": "2ac9c453-37de-44e2-abbd-fdfc597487ed",
   "metadata": {
    "tags": []
   },
   "source": [
    "## Data I/O using Dask\n",
    "### Create Dask Cluster"
   ]
  },
  {
   "cell_type": "code",
   "execution_count": 3,
   "id": "2db8dde8-2c7a-4d15-91a4-caca482a02bb",
   "metadata": {},
   "outputs": [],
   "source": [
    "# cluster.close()\n",
    "# client.close()"
   ]
  },
  {
   "cell_type": "code",
   "execution_count": 4,
   "id": "510515ac-d13d-4f10-bc23-c5b01f7cd926",
   "metadata": {},
   "outputs": [],
   "source": [
    "def get_ClusterClient():\n",
    "    import dask\n",
    "    from dask_jobqueue import PBSCluster\n",
    "    from dask.distributed import Client\n",
    "    cluster = PBSCluster(\n",
    "        cores=3,\n",
    "        memory='300GB',\n",
    "        processes=1,\n",
    "        queue='casper',\n",
    "        resource_spec='select=1:ncpus=1:mem=10GB',\n",
    "        project='p93300070',\n",
    "        walltime='05:00:00',\n",
    "        interface='ib0',)\n",
    "\n",
    "    dask.config.set({\n",
    "        'distributed.dashboard.link':\n",
    "        'https://jupyterhub.hpc.ucar.edu/stable/user/{USER}/proxy/{port}/status'\n",
    "    })\n",
    "    client = Client(cluster)\n",
    "    return cluster, client"
   ]
  },
  {
   "cell_type": "code",
   "execution_count": 5,
   "id": "cd26b089-d58e-4f83-a6e3-b88c5858eb9c",
   "metadata": {},
   "outputs": [],
   "source": [
    "cluster, client = get_ClusterClient()\n",
    "cluster.scale(30)"
   ]
  },
  {
   "cell_type": "code",
   "execution_count": 6,
   "id": "76ca375b-7782-48b6-a94c-7db7a3b12331",
   "metadata": {},
   "outputs": [
    {
     "data": {
      "application/vnd.jupyter.widget-view+json": {
       "model_id": "08556131ec564450b90143e3c821bf46",
       "version_major": 2,
       "version_minor": 0
      },
      "text/plain": [
       "VBox(children=(HTML(value='<h2>PBSCluster</h2>'), HBox(children=(HTML(value='\\n<div>\\n  <style scoped>\\n    .d…"
      ]
     },
     "metadata": {},
     "output_type": "display_data"
    }
   ],
   "source": [
    "cluster"
   ]
  },
  {
   "cell_type": "markdown",
   "id": "af21c737-ee1d-465b-9927-66cf10b33555",
   "metadata": {
    "tags": []
   },
   "source": [
    "## Read in CAM monthly data; Convert to Seasonal averages (DJF, MAM, JJA, SON)\n",
    "- The data loading steps can take ~30 minutes\n",
    "- Chosen field is returned as a dask array with leading dimensions of Y (initialization year), M (ensemble member), and L (lead season). For example, for November starts, L=1 corresponds to first DJF season.\n",
    "- \"time\" which gives prediction verification time (centered time for a given season) is also dimensioned with (Y,L)\n"
   ]
  },
  {
   "cell_type": "code",
   "execution_count": 12,
   "id": "1647f882-7a65-480e-9bc0-d4c2ba55d8ee",
   "metadata": {},
   "outputs": [],
   "source": [
    "def preprocessor(ds0,nlead,field):\n",
    "    \"\"\" This preprocessor is applied on an individual timeseries file basis. Edit this appropriately\n",
    "    for a your analysis to speed up processing. \n",
    "    \"\"\"\n",
    "    ds0 = cal.time_set_mid(ds0,'time')\n",
    "    d0 = ds0[field].isel(z_t=0).isel(time=slice(1, nlead)) # if not on the surface\n",
    "    d0 = cal.mon_to_seas(d0)\n",
    "    d0 = d0.assign_coords(L=(\"time\", np.arange(d0.sizes[\"time\"])+1))\n",
    "    d0 = d0.swap_dims({\"time\": \"L\"})\n",
    "    d0 = d0.to_dataset(name=field)\n",
    "    d0 = d0.reset_coords([\"time\"])\n",
    "    d0[\"time\"] = d0.time.expand_dims(\"Y\")\n",
    "    return d0"
   ]
  },
  {
   "cell_type": "code",
   "execution_count": 10,
   "id": "65be6ee0-d95f-4d06-b30b-307dbb2a3345",
   "metadata": {
    "tags": []
   },
   "outputs": [
    {
     "name": "stdout",
     "output_type": "stream",
     "text": [
      "CPU times: user 25.6 s, sys: 12.6 s, total: 38.3 s\n",
      "Wall time: 45.4 s\n"
     ]
    },
    {
     "data": {
      "text/plain": [
       "7.710969516"
      ]
     },
     "execution_count": 10,
     "metadata": {},
     "output_type": "execute_result"
    }
   ],
   "source": [
    "%%time\n",
    "\n",
    "var = 'CO3'\n",
    "\n",
    "# SMYLE-NOV CO3 data\n",
    "# process all 20 ensemble members, all start dates from 1970-2018:\n",
    "field = var\n",
    "datadir = '/glade/campaign/cesm/development/espwg/SMYLE/archive/'\n",
    "casename = 'b.e21.BSMYLE.f09_g17.????-MM.EEE'\n",
    "filetype = '.pop.h.'\n",
    "filetemplate = datadir+casename+'/ocn/proc/tseries/month_1/'+casename+filetype+field+'.*.nc'\n",
    "ens = 20 \n",
    "nlead = 24\n",
    "firstyear = 1970\n",
    "lastyear  = 2018\n",
    "startmonth = 11\n",
    "\n",
    "chunk = {}\n",
    "smyle11 = io.get_monthly_data(filetemplate,filetype,ens,nlead,field,firstyear,lastyear,startmonth,preprocessor,chunks=chunk)\n",
    "smyle11.nbytes/1e9 #GB"
   ]
  },
  {
   "cell_type": "code",
   "execution_count": 11,
   "id": "d69ac7b7-5891-4e26-ba40-b92a56369acc",
   "metadata": {
    "tags": []
   },
   "outputs": [
    {
     "name": "stdout",
     "output_type": "stream",
     "text": [
      "CPU times: user 27.3 s, sys: 12.3 s, total: 39.7 s\n",
      "Wall time: 44.4 s\n"
     ]
    },
    {
     "data": {
      "text/plain": [
       "7.710969516"
      ]
     },
     "execution_count": 11,
     "metadata": {},
     "output_type": "execute_result"
    }
   ],
   "source": [
    "%%time\n",
    "# SMYLE-NOV co3_sat_arag data\n",
    "field = 'co3_sat_arag'\n",
    "filetemplate = datadir+casename+'/ocn/proc/tseries/month_1/'+casename+filetype+field+'.*.nc'\n",
    "smyle11_b = io.get_monthly_data(filetemplate,filetype,ens,nlead,field,firstyear,lastyear,startmonth,preprocessor)\n",
    "smyle11_b.nbytes/1e9 #GB"
   ]
  },
  {
   "cell_type": "code",
   "execution_count": 12,
   "id": "23f09ea0-0d60-42ee-8be1-22afa79b5e2e",
   "metadata": {
    "tags": []
   },
   "outputs": [],
   "source": [
    "CO3 = smyle11.CO3.persist()\n",
    "co3_sat_arag = smyle11_b.co3_sat_arag.persist()\n",
    "\n",
    "smyle11_time = smyle11.time.load()\n",
    "\n",
    "smyle11_pre = (CO3 / co3_sat_arag)\n",
    "smyle11_pre = smyle11_pre.persist()"
   ]
  },
  {
   "cell_type": "code",
   "execution_count": 13,
   "id": "e0b4b29d-01c6-4fa5-acf9-7622978ef290",
   "metadata": {
    "tags": []
   },
   "outputs": [],
   "source": [
    "var = 'omega_arag'\n",
    "smyle11_pre = smyle11_pre.to_dataset(name = var)"
   ]
  },
  {
   "cell_type": "code",
   "execution_count": 14,
   "id": "fd70268e-9532-4063-9995-b189e0328294",
   "metadata": {
    "tags": []
   },
   "outputs": [
    {
     "name": "stdout",
     "output_type": "stream",
     "text": [
      "CPU times: user 10.5 s, sys: 13.1 s, total: 23.6 s\n",
      "Wall time: 24.7 s\n"
     ]
    }
   ],
   "source": [
    "%%time\n",
    "\n",
    "smyle11_pre = smyle11_pre[var].load()\n",
    "\n",
    "smyle11_pre.to_netcdf(var +'.11.nc')\n",
    "smyle11_time.to_netcdf(var +'.11.time.nc')"
   ]
  },
  {
   "cell_type": "code",
   "execution_count": 15,
   "id": "fe692067-d8f8-4396-8210-1b5a7299a1bf",
   "metadata": {
    "tags": []
   },
   "outputs": [],
   "source": [
    "del smyle11, smyle11_pre, smyle11_time, "
   ]
  },
  {
   "cell_type": "code",
   "execution_count": 16,
   "id": "52fb4908-cf79-47ad-907c-25fcc9ced9ea",
   "metadata": {
    "tags": []
   },
   "outputs": [
    {
     "name": "stdout",
     "output_type": "stream",
     "text": [
      "CPU times: user 25.9 s, sys: 11.7 s, total: 37.6 s\n",
      "Wall time: 42.7 s\n"
     ]
    },
    {
     "data": {
      "text/plain": [
       "7.710969516"
      ]
     },
     "execution_count": 16,
     "metadata": {},
     "output_type": "execute_result"
    }
   ],
   "source": [
    "%%time\n",
    "var = 'CO3'\n",
    "\n",
    "# SMYLE-FEB CO3 data\n",
    "# process all 20 ensemble members, all start dates from 1970-2018:\n",
    "field = var\n",
    "datadir = '/glade/campaign/cesm/development/espwg/SMYLE/archive/'\n",
    "casename = 'b.e21.BSMYLE.f09_g17.????-MM.EEE'\n",
    "filetype = '.pop.h.'\n",
    "filetemplate = datadir+casename+'/ocn/proc/tseries/month_1/'+casename+filetype+field+'.*.nc'\n",
    "ens = 20 \n",
    "nlead = 24\n",
    "firstyear = 1970\n",
    "lastyear  = 2018\n",
    "startmonth = 2\n",
    "\n",
    "chunk = {}\n",
    "smyle02 = io.get_monthly_data(filetemplate,filetype,ens,nlead,field,firstyear,lastyear,startmonth,preprocessor,chunks=chunk)\n",
    "smyle02.nbytes/1e9 #GB"
   ]
  },
  {
   "cell_type": "code",
   "execution_count": 17,
   "id": "f1652c93-9615-4cf6-af9a-f6b97468c8ba",
   "metadata": {
    "tags": []
   },
   "outputs": [
    {
     "name": "stdout",
     "output_type": "stream",
     "text": [
      "CPU times: user 28.6 s, sys: 11.8 s, total: 40.3 s\n",
      "Wall time: 44.6 s\n"
     ]
    },
    {
     "data": {
      "text/plain": [
       "7.710969516"
      ]
     },
     "execution_count": 17,
     "metadata": {},
     "output_type": "execute_result"
    }
   ],
   "source": [
    "%%time\n",
    "# SMYLE-FEB co3_sat_arag data\n",
    "field = 'co3_sat_arag'\n",
    "filetemplate = datadir+casename+'/ocn/proc/tseries/month_1/'+casename+filetype+field+'.*.nc'\n",
    "smyle02_b = io.get_monthly_data(filetemplate,filetype,ens,nlead,field,firstyear,lastyear,startmonth,preprocessor)\n",
    "smyle02_b.nbytes/1e9 #GB"
   ]
  },
  {
   "cell_type": "code",
   "execution_count": 18,
   "id": "4af4e6b7-2398-49e7-9aeb-1d454c90b4d3",
   "metadata": {
    "tags": []
   },
   "outputs": [],
   "source": [
    "CO3 = smyle02.CO3.persist()\n",
    "co3_sat_arag = smyle02_b.co3_sat_arag.persist()\n",
    "\n",
    "smyle02_time = smyle02.time.load()\n",
    "\n",
    "smyle02_pre = (CO3 / co3_sat_arag)\n",
    "smyle02_pre = smyle02_pre.persist()"
   ]
  },
  {
   "cell_type": "code",
   "execution_count": 19,
   "id": "85d54bb2-efb3-4f58-9be3-868597349ae7",
   "metadata": {
    "tags": []
   },
   "outputs": [],
   "source": [
    "var = 'omega_arag'\n",
    "smyle02_pre = smyle02_pre.to_dataset(name = var)"
   ]
  },
  {
   "cell_type": "code",
   "execution_count": 20,
   "id": "8e7edb92-b5d2-4202-bc68-ca24d78c8a2a",
   "metadata": {
    "tags": []
   },
   "outputs": [
    {
     "name": "stdout",
     "output_type": "stream",
     "text": [
      "CPU times: user 11 s, sys: 11.6 s, total: 22.6 s\n",
      "Wall time: 23.9 s\n"
     ]
    }
   ],
   "source": [
    "%%time\n",
    "\n",
    "smyle02_pre = smyle02_pre[var].load()\n",
    "\n",
    "smyle02_pre.to_netcdf(var +'.02.nc')\n",
    "smyle02_time.to_netcdf(var +'.02.time.nc')"
   ]
  },
  {
   "cell_type": "code",
   "execution_count": 21,
   "id": "618c714f-755e-4349-b2dc-79aaa0e2ca54",
   "metadata": {
    "tags": []
   },
   "outputs": [],
   "source": [
    "del smyle02, smyle02_pre, smyle02_time, "
   ]
  },
  {
   "cell_type": "code",
   "execution_count": 15,
   "id": "d3815bea-5c7e-48db-aa88-1aa846552b6c",
   "metadata": {
    "tags": []
   },
   "outputs": [
    {
     "name": "stdout",
     "output_type": "stream",
     "text": [
      "CPU times: user 25.4 s, sys: 11.7 s, total: 37.1 s\n",
      "Wall time: 42.3 s\n"
     ]
    },
    {
     "data": {
      "text/plain": [
       "7.710969516"
      ]
     },
     "execution_count": 15,
     "metadata": {},
     "output_type": "execute_result"
    }
   ],
   "source": [
    "%%time\n",
    "var = 'CO3'\n",
    "\n",
    "# SMYLE-MAY CO3 data\n",
    "# process all 20 ensemble members, all start dates from 1970-2018:\n",
    "field = var\n",
    "datadir = '/glade/campaign/cesm/development/espwg/SMYLE/archive/'\n",
    "casename = 'b.e21.BSMYLE.f09_g17.????-MM.EEE'\n",
    "filetype = '.pop.h.'\n",
    "filetemplate = datadir+casename+'/ocn/proc/tseries/month_1/'+casename+filetype+field+'.*.nc'\n",
    "ens = 20 \n",
    "nlead = 24\n",
    "firstyear = 1970\n",
    "lastyear  = 2018\n",
    "startmonth = 5\n",
    "\n",
    "chunk = {}\n",
    "smyle05 = io.get_monthly_data(filetemplate,filetype,ens,nlead,field,firstyear,lastyear,startmonth,preprocessor,chunks=chunk)\n",
    "smyle05.nbytes/1e9 #GB"
   ]
  },
  {
   "cell_type": "code",
   "execution_count": 16,
   "id": "43864916-21f2-4988-b4f0-a12fdf86ff72",
   "metadata": {
    "tags": []
   },
   "outputs": [
    {
     "name": "stdout",
     "output_type": "stream",
     "text": [
      "CPU times: user 25.7 s, sys: 11.5 s, total: 37.2 s\n",
      "Wall time: 41.9 s\n"
     ]
    },
    {
     "data": {
      "text/plain": [
       "7.710969516"
      ]
     },
     "execution_count": 16,
     "metadata": {},
     "output_type": "execute_result"
    }
   ],
   "source": [
    "%%time\n",
    "# SMYLE-MAY co3_sat_arag data\n",
    "field = 'co3_sat_arag'\n",
    "filetemplate = datadir+casename+'/ocn/proc/tseries/month_1/'+casename+filetype+field+'.*.nc'\n",
    "smyle05_b = io.get_monthly_data(filetemplate,filetype,ens,nlead,field,firstyear,lastyear,startmonth,preprocessor)\n",
    "smyle05_b.nbytes/1e9 #GB"
   ]
  },
  {
   "cell_type": "code",
   "execution_count": 17,
   "id": "28100827-8e81-4222-85c7-a97531f5a237",
   "metadata": {
    "tags": []
   },
   "outputs": [],
   "source": [
    "CO3 = smyle05.CO3.persist()\n",
    "co3_sat_arag = smyle05_b.co3_sat_arag.persist()\n",
    "\n",
    "smyle05_time = smyle05.time.load()\n",
    "\n",
    "smyle05_pre = (CO3 / co3_sat_arag)\n",
    "smyle05_pre = smyle05_pre.persist()"
   ]
  },
  {
   "cell_type": "code",
   "execution_count": 18,
   "id": "93aab042-be14-4c31-a2b0-241904d01f8d",
   "metadata": {
    "tags": []
   },
   "outputs": [],
   "source": [
    "var = 'omega_arag'\n",
    "smyle05_pre = smyle05_pre.to_dataset(name = var)"
   ]
  },
  {
   "cell_type": "code",
   "execution_count": 19,
   "id": "90178ef7-fe9f-40f6-a089-ee74b4f92723",
   "metadata": {
    "tags": []
   },
   "outputs": [
    {
     "name": "stdout",
     "output_type": "stream",
     "text": [
      "CPU times: user 10.2 s, sys: 13.2 s, total: 23.4 s\n",
      "Wall time: 24.9 s\n"
     ]
    }
   ],
   "source": [
    "%%time\n",
    "\n",
    "smyle05_pre = smyle05_pre[var].load()\n",
    "\n",
    "smyle05_pre.to_netcdf(var +'.05.nc')\n",
    "smyle05_time.to_netcdf(var +'.05.time.nc')"
   ]
  },
  {
   "cell_type": "code",
   "execution_count": 20,
   "id": "8083342b-14e7-4754-b002-50c6e632a1b1",
   "metadata": {
    "tags": []
   },
   "outputs": [],
   "source": [
    "del smyle05, smyle05_pre, smyle05_time, "
   ]
  },
  {
   "cell_type": "code",
   "execution_count": 21,
   "id": "e329f8d4-71f7-49cc-8dda-538114226644",
   "metadata": {
    "tags": []
   },
   "outputs": [
    {
     "name": "stdout",
     "output_type": "stream",
     "text": [
      "CPU times: user 28.1 s, sys: 11.7 s, total: 39.8 s\n",
      "Wall time: 46 s\n"
     ]
    },
    {
     "data": {
      "text/plain": [
       "7.710969516"
      ]
     },
     "execution_count": 21,
     "metadata": {},
     "output_type": "execute_result"
    }
   ],
   "source": [
    "%%time\n",
    "var = 'CO3'\n",
    "\n",
    "# SMYLE-AUG CO3 data\n",
    "# process all 20 ensemble members, all start dates from 1970-2018:\n",
    "field = var\n",
    "datadir = '/glade/campaign/cesm/development/espwg/SMYLE/archive/'\n",
    "casename = 'b.e21.BSMYLE.f09_g17.????-MM.EEE'\n",
    "filetype = '.pop.h.'\n",
    "filetemplate = datadir+casename+'/ocn/proc/tseries/month_1/'+casename+filetype+field+'.*.nc'\n",
    "ens = 20 \n",
    "nlead = 24\n",
    "firstyear = 1970\n",
    "lastyear  = 2018\n",
    "startmonth = 8\n",
    "\n",
    "chunk = {}\n",
    "smyle08 = io.get_monthly_data(filetemplate,filetype,ens,nlead,field,firstyear,lastyear,startmonth,preprocessor,chunks=chunk)\n",
    "smyle08.nbytes/1e9 #GB"
   ]
  },
  {
   "cell_type": "code",
   "execution_count": 22,
   "id": "1f0ec523-f626-48ed-91bb-fbe14643abfe",
   "metadata": {
    "tags": []
   },
   "outputs": [
    {
     "name": "stdout",
     "output_type": "stream",
     "text": [
      "CPU times: user 26 s, sys: 11.8 s, total: 37.8 s\n",
      "Wall time: 42 s\n"
     ]
    },
    {
     "data": {
      "text/plain": [
       "7.710969516"
      ]
     },
     "execution_count": 22,
     "metadata": {},
     "output_type": "execute_result"
    }
   ],
   "source": [
    "%%time\n",
    "# SMYLE-AUG co3_sat_arag data\n",
    "field = 'co3_sat_arag'\n",
    "filetemplate = datadir+casename+'/ocn/proc/tseries/month_1/'+casename+filetype+field+'.*.nc'\n",
    "smyle08_b = io.get_monthly_data(filetemplate,filetype,ens,nlead,field,firstyear,lastyear,startmonth,preprocessor)\n",
    "smyle08_b.nbytes/1e9 #GB"
   ]
  },
  {
   "cell_type": "code",
   "execution_count": 23,
   "id": "2026c200-fba4-41dc-9632-9ae7a06aa54a",
   "metadata": {
    "tags": []
   },
   "outputs": [],
   "source": [
    "CO3 = smyle08.CO3.persist()\n",
    "co3_sat_arag = smyle08_b.co3_sat_arag.persist()\n",
    "\n",
    "smyle08_time = smyle08.time.load()\n",
    "\n",
    "smyle08_pre = (CO3 / co3_sat_arag)\n",
    "smyle08_pre = smyle08_pre.persist()"
   ]
  },
  {
   "cell_type": "code",
   "execution_count": 24,
   "id": "d9aabfef-a1ae-4593-afa7-5bbc2efe357c",
   "metadata": {
    "tags": []
   },
   "outputs": [],
   "source": [
    "var = 'omega_arag'\n",
    "smyle08_pre = smyle08_pre.to_dataset(name = var)"
   ]
  },
  {
   "cell_type": "code",
   "execution_count": 25,
   "id": "136bcf4e-0ef4-4098-b957-07f6f808e230",
   "metadata": {
    "tags": []
   },
   "outputs": [
    {
     "name": "stdout",
     "output_type": "stream",
     "text": [
      "CPU times: user 10.4 s, sys: 12.2 s, total: 22.6 s\n",
      "Wall time: 23.9 s\n"
     ]
    }
   ],
   "source": [
    "%%time\n",
    "\n",
    "smyle08_pre = smyle08_pre[var].load()\n",
    "\n",
    "smyle08_pre.to_netcdf(var +'.08.nc')\n",
    "smyle08_time.to_netcdf(var +'.08.time.nc')"
   ]
  },
  {
   "cell_type": "code",
   "execution_count": 26,
   "id": "934f9583-9fd5-4a05-8b3b-e4a2fdbdd6bb",
   "metadata": {
    "tags": []
   },
   "outputs": [],
   "source": [
    "del smyle08, smyle08_pre, smyle08_time, "
   ]
  },
  {
   "cell_type": "code",
   "execution_count": null,
   "id": "4cf032d2-86b0-4ebf-b28a-ca9f80452394",
   "metadata": {},
   "outputs": [],
   "source": []
  }
 ],
 "metadata": {
  "kernelspec": {
   "display_name": "Python [conda env:.conda-smyle-analysis]",
   "language": "python",
   "name": "conda-env-.conda-smyle-analysis-py"
  },
  "language_info": {
   "codemirror_mode": {
    "name": "ipython",
    "version": 3
   },
   "file_extension": ".py",
   "mimetype": "text/x-python",
   "name": "python",
   "nbconvert_exporter": "python",
   "pygments_lexer": "ipython3",
   "version": "3.8.0"
  }
 },
 "nbformat": 4,
 "nbformat_minor": 5
}
