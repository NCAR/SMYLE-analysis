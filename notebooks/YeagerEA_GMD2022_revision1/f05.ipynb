{
 "cells": [
  {
   "cell_type": "markdown",
   "metadata": {
    "tags": []
   },
   "source": [
    "# Figure 5: Regional-average SST Skill (correlation & RMSE)"
   ]
  },
  {
   "cell_type": "code",
   "execution_count": 2,
   "metadata": {},
   "outputs": [
    {
     "name": "stdout",
     "output_type": "stream",
     "text": [
      "The autoreload extension is already loaded. To reload it, use:\n",
      "  %reload_ext autoreload\n"
     ]
    }
   ],
   "source": [
    "%load_ext autoreload\n",
    "%autoreload 2\n",
    "import xarray as xr \n",
    "import numpy as np  \n",
    "import cftime\n",
    "import copy\n",
    "import matplotlib.pyplot as plt\n",
    "import cartopy.crs as ccrs\n",
    "import xesmf as xe\n",
    "%matplotlib inline\n",
    "\n",
    "# import plotting and other utilities from SMYLEutils\n",
    "from SMYLEutils import calendar_utils as cal\n",
    "from SMYLEutils import mapplot_utils as maps\n",
    "from SMYLEutils import colorbar_utils as cbars\n",
    "from SMYLEutils import regrid_utils as regrid\n",
    "\n",
    "# import ESP-Lab modules\n",
    "from esp_lab import data_access\n",
    "from esp_lab import stats"
   ]
  },
  {
   "cell_type": "code",
   "execution_count": 3,
   "metadata": {},
   "outputs": [
    {
     "data": {
      "text/plain": [
       "'2021.09.0'"
      ]
     },
     "execution_count": 3,
     "metadata": {},
     "output_type": "execute_result"
    }
   ],
   "source": [
    "import dask\n",
    "from dask.distributed import wait\n",
    "dask.__version__"
   ]
  },
  {
   "cell_type": "markdown",
   "metadata": {},
   "source": [
    "## Start Dask Cluster"
   ]
  },
  {
   "cell_type": "code",
   "execution_count": 38,
   "metadata": {
    "tags": []
   },
   "outputs": [],
   "source": [
    "# Close out Dask Cluster and release workers:\n",
    "# NOTE:  only run this cell to terminate Dask Cluster!\n",
    "cluster.close()\n",
    "client.close()"
   ]
  },
  {
   "cell_type": "code",
   "execution_count": 4,
   "metadata": {
    "tags": []
   },
   "outputs": [],
   "source": [
    "def get_ClusterClient():\n",
    "    import dask\n",
    "    from dask_jobqueue import PBSCluster\n",
    "    from dask.distributed import Client\n",
    "    cluster = PBSCluster(\n",
    "        cores=1,\n",
    "        memory='20GB',\n",
    "        processes=1,\n",
    "        queue='casper',\n",
    "        resource_spec='select=1:ncpus=1:mem=20GB',\n",
    "        project='NCGD0011',\n",
    "        walltime='02:00:00',\n",
    "        interface='ib0',)\n",
    "\n",
    "    dask.config.set({\n",
    "        'distributed.dashboard.link':\n",
    "        'https://jupyterhub.hpc.ucar.edu/stable/user/{USER}/proxy/{port}/status',\n",
    "        'array.slicing.split_large_chunks':True\n",
    "    })\n",
    "    client = Client(cluster)\n",
    "    return cluster, client"
   ]
  },
  {
   "cell_type": "code",
   "execution_count": 5,
   "metadata": {
    "tags": []
   },
   "outputs": [
    {
     "name": "stderr",
     "output_type": "stream",
     "text": [
      "/glade/work/yeager/miniconda3/envs/smyle-analysis/lib/python3.8/site-packages/distributed/node.py:160: UserWarning: Port 8787 is already in use.\n",
      "Perhaps you already have a cluster running?\n",
      "Hosting the HTTP server on port 36459 instead\n",
      "  warnings.warn(\n"
     ]
    }
   ],
   "source": [
    "cluster, client = get_ClusterClient()\n",
    "cluster.scale(30) "
   ]
  },
  {
   "cell_type": "code",
   "execution_count": 6,
   "metadata": {
    "tags": []
   },
   "outputs": [
    {
     "data": {
      "application/vnd.jupyter.widget-view+json": {
       "model_id": "a89652820796479f9f31a6fd663f396c",
       "version_major": 2,
       "version_minor": 0
      },
      "text/plain": [
       "Tab(children=(HTML(value='<div class=\"jp-RenderedHTMLCommon jp-RenderedHTML jp-mod-trusted jp-OutputArea-outpu…"
      ]
     },
     "metadata": {},
     "output_type": "display_data"
    }
   ],
   "source": [
    "cluster"
   ]
  },
  {
   "cell_type": "markdown",
   "metadata": {},
   "source": [
    "### Read in POP monthly SST data using I/O functions; Convert to seasonal mean"
   ]
  },
  {
   "cell_type": "code",
   "execution_count": 7,
   "metadata": {},
   "outputs": [],
   "source": [
    "# This preprocessor will return POP SST (first vertical grid level only)\n",
    "def preprocessor(d0,nlead,field):\n",
    "    \"\"\" This preprocessor is applied on an individual timeseries file basis. Edit this appropriately\n",
    "    for your analysis to speed up processing. \n",
    "    \n",
    "    Here,\n",
    "        - reset monthly time to mid-month value\n",
    "        - select top vertical level and only nlead time values\n",
    "        - drop fields unrelated to SST\n",
    "    \"\"\"\n",
    "    d0 = cal.time_set_midmonth(d0,'time')\n",
    "    d0 = d0.isel(z_t=0).isel(time=slice(0, nlead))\n",
    "    d0 = d0.assign_coords(L=(\"time\", np.arange(d0.sizes[\"time\"])+1))\n",
    "    d0 = d0.swap_dims({\"time\": \"L\"})\n",
    "    d0 = d0.reset_coords([\"time\"])\n",
    "    d0[\"time\"] = d0.time.expand_dims(\"Y\")\n",
    "    d0 = d0[[field,'time','TLAT','TLONG','TAREA']].drop(['ULAT','ULONG'])\n",
    "    d0 = d0.chunk({'L':-1})\n",
    "    return d0"
   ]
  },
  {
   "cell_type": "code",
   "execution_count": 8,
   "metadata": {},
   "outputs": [
    {
     "name": "stdout",
     "output_type": "stream",
     "text": [
      "CPU times: user 27.3 s, sys: 12.2 s, total: 39.5 s\n",
      "Wall time: 1min 12s\n"
     ]
    },
    {
     "data": {
      "text/plain": [
       "11.799439476"
      ]
     },
     "execution_count": 8,
     "metadata": {},
     "output_type": "execute_result"
    }
   ],
   "source": [
    "%%time\n",
    "# SMYLE-Nov SST data\n",
    "# process all 20 ensemble members, all November start dates from 1970-2019:\n",
    "field = 'TEMP'\n",
    "datadir = '/glade/campaign/cesm/development/espwg/SMYLE/archive/'\n",
    "casename = 'b.e21.BSMYLE.f09_g17.????-MM.EEE'\n",
    "filetype = '.pop.h.'\n",
    "filetemplate = datadir+casename+'/ocn/proc/tseries/month_1/'+casename+filetype+field+'.*.nc'\n",
    "ens = 20 \n",
    "nlead = 24\n",
    "inityears = np.arange(1970,2020,1)\n",
    "startmonth = 11\n",
    "chunk = {}\n",
    "smyle11 = data_access.get_monthly_data(filetemplate,filetype,ens,nlead,field,inityears,startmonth,preprocessor,chunks=chunk)\n",
    "smyle11.nbytes/1e9 #GB"
   ]
  },
  {
   "cell_type": "code",
   "execution_count": 9,
   "metadata": {},
   "outputs": [
    {
     "name": "stdout",
     "output_type": "stream",
     "text": [
      "CPU times: user 57.9 s, sys: 1.49 s, total: 59.4 s\n",
      "Wall time: 1min 42s\n"
     ]
    }
   ],
   "source": [
    "%%time\n",
    "smyle11_seas = cal.mon_to_seas_dask(smyle11).persist()\n",
    "daskout = wait(smyle11_seas)"
   ]
  },
  {
   "cell_type": "code",
   "execution_count": 10,
   "metadata": {},
   "outputs": [
    {
     "name": "stdout",
     "output_type": "stream",
     "text": [
      "CPU times: user 31.7 s, sys: 12.1 s, total: 43.7 s\n",
      "Wall time: 1min 16s\n"
     ]
    },
    {
     "data": {
      "text/plain": [
       "11.799439476"
      ]
     },
     "execution_count": 10,
     "metadata": {},
     "output_type": "execute_result"
    }
   ],
   "source": [
    "%%time\n",
    "# SMYLE-Feb SST data\n",
    "# process all 20 ensemble members, all February start dates from 1970-2019:\n",
    "field = 'TEMP'\n",
    "datadir = '/glade/campaign/cesm/development/espwg/SMYLE/archive/'\n",
    "casename = 'b.e21.BSMYLE.f09_g17.????-MM.EEE'\n",
    "filetype = '.pop.h.'\n",
    "filetemplate = datadir+casename+'/ocn/proc/tseries/month_1/'+casename+filetype+field+'.*.nc'\n",
    "ens = 20 \n",
    "nlead = 24\n",
    "inityears = np.arange(1970,2020,1)\n",
    "startmonth = 2\n",
    "chunk = {}\n",
    "smyle02 = data_access.get_monthly_data(filetemplate,filetype,ens,nlead,field,inityears,startmonth,preprocessor,chunks=chunk)\n",
    "smyle02.nbytes/1e9 #GB"
   ]
  },
  {
   "cell_type": "code",
   "execution_count": 11,
   "metadata": {},
   "outputs": [
    {
     "name": "stdout",
     "output_type": "stream",
     "text": [
      "CPU times: user 1min 5s, sys: 1.48 s, total: 1min 6s\n",
      "Wall time: 1min 44s\n"
     ]
    }
   ],
   "source": [
    "%%time\n",
    "smyle02_seas = cal.mon_to_seas_dask(smyle02).persist()\n",
    "daskout = wait(smyle02_seas)"
   ]
  },
  {
   "cell_type": "code",
   "execution_count": 12,
   "metadata": {},
   "outputs": [
    {
     "name": "stdout",
     "output_type": "stream",
     "text": [
      "CPU times: user 37.3 s, sys: 12.7 s, total: 50 s\n",
      "Wall time: 1min 22s\n"
     ]
    },
    {
     "data": {
      "text/plain": [
       "11.799439476"
      ]
     },
     "execution_count": 12,
     "metadata": {},
     "output_type": "execute_result"
    }
   ],
   "source": [
    "%%time\n",
    "# SMYLE-May SST data\n",
    "# process all 20 ensemble members, all May start dates from 1970-2019:\n",
    "field = 'TEMP'\n",
    "datadir = '/glade/campaign/cesm/development/espwg/SMYLE/archive/'\n",
    "casename = 'b.e21.BSMYLE.f09_g17.????-MM.EEE'\n",
    "filetype = '.pop.h.'\n",
    "filetemplate = datadir+casename+'/ocn/proc/tseries/month_1/'+casename+filetype+field+'.*.nc'\n",
    "ens = 20 \n",
    "nlead = 24\n",
    "inityears = np.arange(1970,2020,1)\n",
    "startmonth = 5\n",
    "chunk = {}\n",
    "smyle05 = data_access.get_monthly_data(filetemplate,filetype,ens,nlead,field,inityears,startmonth,preprocessor,chunks=chunk)\n",
    "smyle05.nbytes/1e9 #GB"
   ]
  },
  {
   "cell_type": "code",
   "execution_count": 13,
   "metadata": {},
   "outputs": [
    {
     "name": "stdout",
     "output_type": "stream",
     "text": [
      "CPU times: user 1min 6s, sys: 1.5 s, total: 1min 8s\n",
      "Wall time: 1min 40s\n"
     ]
    }
   ],
   "source": [
    "%%time\n",
    "smyle05_seas = cal.mon_to_seas_dask(smyle05).persist()\n",
    "daskout = wait(smyle05_seas)"
   ]
  },
  {
   "cell_type": "code",
   "execution_count": 14,
   "metadata": {},
   "outputs": [
    {
     "name": "stdout",
     "output_type": "stream",
     "text": [
      "CPU times: user 41 s, sys: 12 s, total: 53 s\n",
      "Wall time: 1min 24s\n"
     ]
    },
    {
     "data": {
      "text/plain": [
       "11.799439476"
      ]
     },
     "execution_count": 14,
     "metadata": {},
     "output_type": "execute_result"
    }
   ],
   "source": [
    "%%time\n",
    "# SMYLE-Aug SST data\n",
    "# process all 20 ensemble members, all August start dates from 1970-2019:\n",
    "field = 'TEMP'\n",
    "datadir = '/glade/campaign/cesm/development/espwg/SMYLE/archive/'\n",
    "casename = 'b.e21.BSMYLE.f09_g17.????-MM.EEE'\n",
    "filetype = '.pop.h.'\n",
    "filetemplate = datadir+casename+'/ocn/proc/tseries/month_1/'+casename+filetype+field+'.*.nc'\n",
    "ens = 20 \n",
    "nlead = 24\n",
    "inityears = np.arange(1970,2020,1)\n",
    "startmonth = 8\n",
    "chunk = {}\n",
    "smyle08 = data_access.get_monthly_data(filetemplate,filetype,ens,nlead,field,inityears,startmonth,preprocessor,chunks=chunk)\n",
    "smyle08.nbytes/1e9 #GB"
   ]
  },
  {
   "cell_type": "code",
   "execution_count": 15,
   "metadata": {},
   "outputs": [
    {
     "name": "stdout",
     "output_type": "stream",
     "text": [
      "CPU times: user 1min 12s, sys: 1.57 s, total: 1min 13s\n",
      "Wall time: 1min 44s\n"
     ]
    }
   ],
   "source": [
    "%%time\n",
    "smyle08_seas = cal.mon_to_seas_dask(smyle08).persist()\n",
    "daskout = wait(smyle08_seas)"
   ]
  },
  {
   "cell_type": "markdown",
   "metadata": {},
   "source": [
    "# Compute Regional-average SST"
   ]
  },
  {
   "cell_type": "markdown",
   "metadata": {},
   "source": [
    "### Define Averaging Regions"
   ]
  },
  {
   "cell_type": "code",
   "execution_count": 16,
   "metadata": {},
   "outputs": [],
   "source": [
    "region1lonlat = [-20.,0.,-3.,3.]  \n",
    "region1title = 'Atlantic Nino'\n",
    "\n",
    "region2lonlat = [-80.,-10.,10.,20.]  \n",
    "region2title = 'Atlantic MDR'\n",
    "\n",
    "region3lonlat = [50.,70.,-10.,10.]    # IOD-west, to be overwritten by IOD\n",
    "region3title = 'Indian Ocean Dipole'\n",
    "\n",
    "region4lonlat = [90.,110.,-10.,0.]  # IOD-east\n",
    "region4title = 'IODe'"
   ]
  },
  {
   "cell_type": "code",
   "execution_count": 17,
   "metadata": {},
   "outputs": [],
   "source": [
    "def POP_regional_areawgt(ds,lonlat):\n",
    "    tarea = ds.TAREA\n",
    "    tlat = ds.TLAT\n",
    "    tlon = xr.where(ds.TLONG>180.,ds.TLONG-360.,ds.TLONG)\n",
    "    region = (tlat>=lonlat[2]) & (tlat<=lonlat[3]) & (tlon>=lonlat[0]) & (tlon<=lonlat[1])\n",
    "    return xr.where(region,tarea.fillna(0),0)"
   ]
  },
  {
   "cell_type": "code",
   "execution_count": 18,
   "metadata": {},
   "outputs": [],
   "source": [
    "POPg16_reg1sst_area = POP_regional_areawgt(smyle11,region1lonlat)\n",
    "POPg16_reg2sst_area = POP_regional_areawgt(smyle11,region2lonlat)\n",
    "POPg16_reg3sst_area = POP_regional_areawgt(smyle11,region3lonlat)\n",
    "POPg16_reg4sst_area = POP_regional_areawgt(smyle11,region4lonlat)"
   ]
  },
  {
   "cell_type": "markdown",
   "metadata": {},
   "source": [
    "### Perform regional-average computation on SMYLE, returning xarray:"
   ]
  },
  {
   "cell_type": "code",
   "execution_count": 19,
   "metadata": {},
   "outputs": [
    {
     "name": "stdout",
     "output_type": "stream",
     "text": [
      "CPU times: user 2min 30s, sys: 2.74 s, total: 2min 32s\n",
      "Wall time: 2min 41s\n"
     ]
    }
   ],
   "source": [
    "%%time\n",
    "smyle11_seas_reg1sst = smyle11_seas.TEMP.weighted(POPg16_reg1sst_area).mean((\"nlon\", \"nlat\")).load()\n",
    "smyle02_seas_reg1sst = smyle02_seas.TEMP.weighted(POPg16_reg1sst_area).mean((\"nlon\", \"nlat\")).load()\n",
    "smyle05_seas_reg1sst = smyle05_seas.TEMP.weighted(POPg16_reg1sst_area).mean((\"nlon\", \"nlat\")).load()\n",
    "smyle08_seas_reg1sst = smyle08_seas.TEMP.weighted(POPg16_reg1sst_area).mean((\"nlon\", \"nlat\")).load()"
   ]
  },
  {
   "cell_type": "code",
   "execution_count": 20,
   "metadata": {},
   "outputs": [
    {
     "name": "stdout",
     "output_type": "stream",
     "text": [
      "CPU times: user 2min 24s, sys: 2.06 s, total: 2min 26s\n",
      "Wall time: 2min 34s\n"
     ]
    }
   ],
   "source": [
    "%%time\n",
    "smyle11_seas_reg2sst = smyle11_seas.TEMP.weighted(POPg16_reg2sst_area).mean((\"nlon\", \"nlat\")).load()\n",
    "smyle02_seas_reg2sst = smyle02_seas.TEMP.weighted(POPg16_reg2sst_area).mean((\"nlon\", \"nlat\")).load()\n",
    "smyle05_seas_reg2sst = smyle05_seas.TEMP.weighted(POPg16_reg2sst_area).mean((\"nlon\", \"nlat\")).load()\n",
    "smyle08_seas_reg2sst = smyle08_seas.TEMP.weighted(POPg16_reg2sst_area).mean((\"nlon\", \"nlat\")).load()"
   ]
  },
  {
   "cell_type": "code",
   "execution_count": 21,
   "metadata": {},
   "outputs": [
    {
     "name": "stdout",
     "output_type": "stream",
     "text": [
      "CPU times: user 2min 25s, sys: 2.1 s, total: 2min 27s\n",
      "Wall time: 2min 38s\n"
     ]
    }
   ],
   "source": [
    "%%time\n",
    "smyle11_seas_reg3sst = smyle11_seas.TEMP.weighted(POPg16_reg3sst_area).mean((\"nlon\", \"nlat\")).load()\n",
    "smyle02_seas_reg3sst = smyle02_seas.TEMP.weighted(POPg16_reg3sst_area).mean((\"nlon\", \"nlat\")).load()\n",
    "smyle05_seas_reg3sst = smyle05_seas.TEMP.weighted(POPg16_reg3sst_area).mean((\"nlon\", \"nlat\")).load()\n",
    "smyle08_seas_reg3sst = smyle08_seas.TEMP.weighted(POPg16_reg3sst_area).mean((\"nlon\", \"nlat\")).load()"
   ]
  },
  {
   "cell_type": "code",
   "execution_count": 22,
   "metadata": {},
   "outputs": [
    {
     "name": "stdout",
     "output_type": "stream",
     "text": [
      "CPU times: user 2min 28s, sys: 2.05 s, total: 2min 30s\n",
      "Wall time: 2min 39s\n"
     ]
    }
   ],
   "source": [
    "%%time\n",
    "smyle11_seas_reg4sst = smyle11_seas.TEMP.weighted(POPg16_reg4sst_area).mean((\"nlon\", \"nlat\")).load()\n",
    "smyle02_seas_reg4sst = smyle02_seas.TEMP.weighted(POPg16_reg4sst_area).mean((\"nlon\", \"nlat\")).load()\n",
    "smyle05_seas_reg4sst = smyle05_seas.TEMP.weighted(POPg16_reg4sst_area).mean((\"nlon\", \"nlat\")).load()\n",
    "smyle08_seas_reg4sst = smyle08_seas.TEMP.weighted(POPg16_reg4sst_area).mean((\"nlon\", \"nlat\")).load()"
   ]
  },
  {
   "cell_type": "code",
   "execution_count": 23,
   "metadata": {},
   "outputs": [
    {
     "name": "stdout",
     "output_type": "stream",
     "text": [
      "CPU times: user 3.47 ms, sys: 0 ns, total: 3.47 ms\n",
      "Wall time: 3.9 ms\n"
     ]
    }
   ],
   "source": [
    "%%time\n",
    "smyle11_seas_reg3sst = smyle11_seas_reg3sst - smyle11_seas_reg4sst\n",
    "smyle02_seas_reg3sst = smyle02_seas_reg3sst - smyle02_seas_reg4sst\n",
    "smyle05_seas_reg3sst = smyle05_seas_reg3sst - smyle05_seas_reg4sst\n",
    "smyle08_seas_reg3sst = smyle08_seas_reg3sst - smyle08_seas_reg4sst"
   ]
  },
  {
   "cell_type": "markdown",
   "metadata": {},
   "source": [
    "### Store datasets to disk for quicker processing next time "
   ]
  },
  {
   "cell_type": "code",
   "execution_count": 24,
   "metadata": {},
   "outputs": [
    {
     "name": "stdout",
     "output_type": "stream",
     "text": [
      "CPU times: user 138 ms, sys: 5 ms, total: 143 ms\n",
      "Wall time: 149 ms\n"
     ]
    }
   ],
   "source": [
    "%%time\n",
    "smyle11_seas_time = smyle11_seas.time.load()\n",
    "smyle02_seas_time = smyle02_seas.time.load()\n",
    "smyle05_seas_time = smyle05_seas.time.load()\n",
    "smyle08_seas_time = smyle08_seas.time.load()"
   ]
  },
  {
   "cell_type": "code",
   "execution_count": 29,
   "metadata": {},
   "outputs": [],
   "source": [
    "# combine regional xarrays\n",
    "regions= xr.DataArray([region1title,region2title,region3title],name='region',dims='region')\n",
    "\n",
    "smyle11_seas = xr.concat([smyle11_seas_reg1sst,smyle11_seas_reg2sst,smyle11_seas_reg3sst],dim=regions)\n",
    "smyle11_seas = smyle11_seas.drop('z_t').rename('sst')\n",
    "ds_smyle11_seas = smyle11_seas.to_dataset()\n",
    "ds_smyle11_seas['time'] = smyle11_seas_time\n",
    "\n",
    "smyle02_seas = xr.concat([smyle02_seas_reg1sst,smyle02_seas_reg2sst,smyle02_seas_reg3sst],dim=regions)\n",
    "smyle02_seas = smyle02_seas.drop('z_t').rename('sst')\n",
    "ds_smyle02_seas = smyle02_seas.to_dataset()\n",
    "ds_smyle02_seas['time'] = smyle02_seas_time\n",
    "\n",
    "smyle05_seas = xr.concat([smyle05_seas_reg1sst,smyle05_seas_reg2sst,smyle05_seas_reg3sst],dim=regions)\n",
    "smyle05_seas = smyle05_seas.drop('z_t').rename('sst')\n",
    "ds_smyle05_seas = smyle05_seas.to_dataset()\n",
    "ds_smyle05_seas['time'] = smyle05_seas_time\n",
    "\n",
    "smyle08_seas = xr.concat([smyle08_seas_reg1sst,smyle08_seas_reg2sst,smyle08_seas_reg3sst],dim=regions)\n",
    "smyle08_seas = smyle08_seas.drop('z_t').rename('sst')\n",
    "ds_smyle08_seas = smyle08_seas.to_dataset()\n",
    "ds_smyle08_seas['time'] = smyle08_seas_time"
   ]
  },
  {
   "cell_type": "code",
   "execution_count": 30,
   "metadata": {},
   "outputs": [
    {
     "name": "stdout",
     "output_type": "stream",
     "text": [
      "CPU times: user 184 ms, sys: 13.6 ms, total: 198 ms\n",
      "Wall time: 436 ms\n"
     ]
    }
   ],
   "source": [
    "%%time\n",
    "## Save Fig data to file:\n",
    "outdir = '/glade/scratch/yeager/SMYLE_paper/'\n",
    "ds_smyle11_seas.to_netcdf(outdir+'SMYLE11_regSST_seas.nc')\n",
    "ds_smyle02_seas.to_netcdf(outdir+'SMYLE02_regSST_seas.nc')\n",
    "ds_smyle05_seas.to_netcdf(outdir+'SMYLE05_regSST_seas.nc')\n",
    "ds_smyle08_seas.to_netcdf(outdir+'SMYLE08_regSST_seas.nc')"
   ]
  },
  {
   "cell_type": "code",
   "execution_count": null,
   "metadata": {},
   "outputs": [],
   "source": [
    "## Retrieve pre-saved Fig data:\n",
    "outdir = '/glade/scratch/yeager/SMYLE_paper/'\n",
    "ds_smyle11_seas = xr.open_dataset(outdir+'SMYLE11_regSST_seas.nc')\n",
    "smyle11_seas_time = ds_smyle11_seas['time']\n",
    "smyle11_seas = ds_smyle11_seas['sst']\n",
    "\n",
    "ds_smyle02_seas = xr.open_dataset(outdir+'SMYLE02_regSST_seas.nc')\n",
    "smyle02_seas_time = ds_smyle02_seas['time']\n",
    "smyle02_seas = ds_smyle02_seas['sst']\n",
    "\n",
    "ds_smyle05_seas = xr.open_dataset(outdir+'SMYLE05_regSST_seas.nc')\n",
    "smyle05_seas_time = ds_smyle05_seas['time']\n",
    "smyle05_seas = ds_smyle05_seas['sst']\n",
    "\n",
    "ds_smyle08_seas = xr.open_dataset(outdir+'SMYLE08_regSST_seas.nc')\n",
    "smyle08_seas_time = ds_smyle08_seas['time']\n",
    "smyle08_seas = ds_smyle08_seas['sst']"
   ]
  },
  {
   "cell_type": "markdown",
   "metadata": {
    "tags": []
   },
   "source": [
    "### Compute observed seasonal SST anomalies"
   ]
  },
  {
   "cell_type": "code",
   "execution_count": 31,
   "metadata": {},
   "outputs": [],
   "source": [
    "# HADISST  (1deg SST over ocean)\n",
    "obs_dir = '/glade/campaign/cesm/development/espwg/verification_datasets/'\n",
    "ds_hadisst = xr.open_dataset(obs_dir+'mon/SST/HadISST_sst.nc').sel(time=slice(\"1870\",\"2020\"))\n",
    "nt = np.size(ds_hadisst.time)\n",
    "hadisst_montime_vals = [cftime.DatetimeNoLeap(1870+year, 1+month, 15) for year in range(151) for month in range(12)]\n",
    "ds_hadisst['time'] = hadisst_montime_vals\n",
    "ds_hadisst['sst'] = xr.where(ds_hadisst['sst']<-2,-1.8,ds_hadisst['sst'])\n",
    "ds_hadisst = ds_hadisst.sel(time=slice(\"1960\",\"2020\"))"
   ]
  },
  {
   "cell_type": "code",
   "execution_count": 32,
   "metadata": {
    "tags": []
   },
   "outputs": [],
   "source": [
    "# Note that latitude decreases with index in this dataset!\n",
    "ds_hadisst = ds_hadisst.rename({\"latitude\":\"lat\",\"longitude\":\"lon\"})\n",
    "ds_hadisst = ds_hadisst.reindex(lat=ds_hadisst.lat[::-1])"
   ]
  },
  {
   "cell_type": "code",
   "execution_count": 35,
   "metadata": {},
   "outputs": [],
   "source": [
    "# Region 1\n",
    "tmp = ds_hadisst.sst.sel(lat=slice(region1lonlat[2],region1lonlat[3])).sel(lon=slice(region1lonlat[0],region1lonlat[1]))\n",
    "wgts = np.cos(np.deg2rad(tmp.lat))\n",
    "obs_reg1sst = tmp.weighted(wgts).mean((\"lon\", \"lat\")).rolling(time=3,min_periods=3, center=True).mean().dropna('time',how='all')"
   ]
  },
  {
   "cell_type": "code",
   "execution_count": 37,
   "metadata": {},
   "outputs": [],
   "source": [
    "# Region 2\n",
    "tmp = ds_hadisst.sst.sel(lat=slice(region2lonlat[2],region2lonlat[3])).sel(lon=slice(region2lonlat[0],region2lonlat[1]))\n",
    "wgts = np.cos(np.deg2rad(tmp.lat))\n",
    "obs_reg2sst = tmp.weighted(wgts).mean((\"lon\", \"lat\")).rolling(time=3,min_periods=3, center=True).mean().dropna('time',how='all')"
   ]
  },
  {
   "cell_type": "code",
   "execution_count": 38,
   "metadata": {},
   "outputs": [],
   "source": [
    "# Region 3\n",
    "tmp = ds_hadisst.sst.sel(lat=slice(region3lonlat[2],region3lonlat[3])).sel(lon=slice(region3lonlat[0],region3lonlat[1]))\n",
    "wgts = np.cos(np.deg2rad(tmp.lat))\n",
    "obs_reg3sst = tmp.weighted(wgts).mean((\"lon\", \"lat\")).rolling(time=3,min_periods=3, center=True).mean().dropna('time',how='all')\n",
    "\n",
    "tmp = ds_hadisst.sst.sel(lat=slice(region4lonlat[2],region4lonlat[3])).sel(lon=slice(region4lonlat[0],region4lonlat[1]))\n",
    "wgts = np.cos(np.deg2rad(tmp.lat))\n",
    "obs_reg4sst = tmp.weighted(wgts).mean((\"lon\", \"lat\")).rolling(time=3,min_periods=3, center=True).mean().dropna('time',how='all')\n",
    "\n",
    "obs_reg3sst = obs_reg3sst - obs_reg4sst \n"
   ]
  },
  {
   "cell_type": "code",
   "execution_count": 40,
   "metadata": {},
   "outputs": [],
   "source": [
    "obs_seas = xr.concat([obs_reg1sst,obs_reg2sst,obs_reg3sst],dim=regions)"
   ]
  },
  {
   "cell_type": "markdown",
   "metadata": {},
   "source": [
    "# Skill Analysis"
   ]
  },
  {
   "cell_type": "markdown",
   "metadata": {},
   "source": [
    "### Remove leadtime-dependent drift from SMYLE data:"
   ]
  },
  {
   "cell_type": "code",
   "execution_count": 39,
   "metadata": {},
   "outputs": [
    {
     "name": "stdout",
     "output_type": "stream",
     "text": [
      "CPU times: user 14.1 ms, sys: 9 µs, total: 14.1 ms\n",
      "Wall time: 14.1 ms\n"
     ]
    }
   ],
   "source": [
    "%%time\n",
    "# Remove leadtime-dependent climatology\n",
    "climy0 = 1972\n",
    "climy1 = 2018\n",
    "smyle11_seas_dd,smyle11_seas_drift = stats.remove_drift(smyle11_seas,smyle11_seas_time,climy0,climy1)\n",
    "smyle02_seas_dd,smyle02_seas_drift = stats.remove_drift(smyle02_seas,smyle02_seas_time,climy0,climy1)\n",
    "smyle05_seas_dd,smyle05_seas_drift = stats.remove_drift(smyle05_seas,smyle05_seas_time,climy0,climy1)\n",
    "smyle08_seas_dd,smyle08_seas_drift = stats.remove_drift(smyle08_seas,smyle08_seas_time,climy0,climy1)"
   ]
  },
  {
   "cell_type": "code",
   "execution_count": 42,
   "metadata": {},
   "outputs": [
    {
     "name": "stdout",
     "output_type": "stream",
     "text": [
      "CPU times: user 1 s, sys: 6.19 ms, total: 1.01 s\n",
      "Wall time: 1.06 s\n"
     ]
    }
   ],
   "source": [
    "%%time\n",
    "# SMYLE seasonal skill\n",
    "smyle11_seas_skill = stats.compute_skill_seasonal(smyle11_seas_dd,smyle11_seas_time,obs_seas,str(climy0),str(climy1),1,8,resamp=0,detrend=True)\n",
    "smyle02_seas_skill = stats.compute_skill_seasonal(smyle02_seas_dd,smyle02_seas_time,obs_seas,str(climy0),str(climy1),1,8,resamp=0,detrend=True)\n",
    "smyle05_seas_skill = stats.compute_skill_seasonal(smyle05_seas_dd,smyle05_seas_time,obs_seas,str(climy0),str(climy1),1,8,resamp=0,detrend=True)\n",
    "smyle08_seas_skill = stats.compute_skill_seasonal(smyle08_seas_dd,smyle08_seas_time,obs_seas,str(climy0),str(climy1),1,8,resamp=0,detrend=True)\n"
   ]
  },
  {
   "cell_type": "markdown",
   "metadata": {},
   "source": [
    "# Plots"
   ]
  },
  {
   "cell_type": "markdown",
   "metadata": {},
   "source": [
    "### Generate ACC and normalized RMSE Skill Plot"
   ]
  },
  {
   "cell_type": "code",
   "execution_count": 51,
   "metadata": {},
   "outputs": [],
   "source": [
    "# combine skill score xarrays for plotting\n",
    "startmonth= xr.DataArray([11,2,5,8],name='startmonth',dims='startmonth')\n",
    "reg1_skill = xr.concat([smyle11_seas_skill.isel(region=0),smyle02_seas_skill.isel(region=0),smyle05_seas_skill.isel(region=0),smyle08_seas_skill.isel(region=0)],dim=startmonth)\n",
    "reg2_skill = xr.concat([smyle11_seas_skill.isel(region=1),smyle02_seas_skill.isel(region=1),smyle05_seas_skill.isel(region=1),smyle08_seas_skill.isel(region=1)],dim=startmonth)\n",
    "reg3_skill = xr.concat([smyle11_seas_skill.isel(region=2),smyle02_seas_skill.isel(region=2),smyle05_seas_skill.isel(region=2),smyle08_seas_skill.isel(region=2)],dim=startmonth)\n",
    "reg_skill = xr.concat([reg1_skill,reg2_skill,reg3_skill],dim=regions)\n",
    "reg_time = xr.concat([smyle11_seas_time,smyle02_seas_time,smyle05_seas_time,smyle08_seas_time],dim=startmonth)"
   ]
  },
  {
   "cell_type": "code",
   "execution_count": 54,
   "metadata": {},
   "outputs": [
    {
     "data": {
      "text/html": [
       "<div><svg style=\"position: absolute; width: 0; height: 0; overflow: hidden\">\n",
       "<defs>\n",
       "<symbol id=\"icon-database\" viewBox=\"0 0 32 32\">\n",
       "<path d=\"M16 0c-8.837 0-16 2.239-16 5v4c0 2.761 7.163 5 16 5s16-2.239 16-5v-4c0-2.761-7.163-5-16-5z\"></path>\n",
       "<path d=\"M16 17c-8.837 0-16-2.239-16-5v6c0 2.761 7.163 5 16 5s16-2.239 16-5v-6c0 2.761-7.163 5-16 5z\"></path>\n",
       "<path d=\"M16 26c-8.837 0-16-2.239-16-5v6c0 2.761 7.163 5 16 5s16-2.239 16-5v-6c0 2.761-7.163 5-16 5z\"></path>\n",
       "</symbol>\n",
       "<symbol id=\"icon-file-text2\" viewBox=\"0 0 32 32\">\n",
       "<path d=\"M28.681 7.159c-0.694-0.947-1.662-2.053-2.724-3.116s-2.169-2.030-3.116-2.724c-1.612-1.182-2.393-1.319-2.841-1.319h-15.5c-1.378 0-2.5 1.121-2.5 2.5v27c0 1.378 1.122 2.5 2.5 2.5h23c1.378 0 2.5-1.122 2.5-2.5v-19.5c0-0.448-0.137-1.23-1.319-2.841zM24.543 5.457c0.959 0.959 1.712 1.825 2.268 2.543h-4.811v-4.811c0.718 0.556 1.584 1.309 2.543 2.268zM28 29.5c0 0.271-0.229 0.5-0.5 0.5h-23c-0.271 0-0.5-0.229-0.5-0.5v-27c0-0.271 0.229-0.5 0.5-0.5 0 0 15.499-0 15.5 0v7c0 0.552 0.448 1 1 1h7v19.5z\"></path>\n",
       "<path d=\"M23 26h-14c-0.552 0-1-0.448-1-1s0.448-1 1-1h14c0.552 0 1 0.448 1 1s-0.448 1-1 1z\"></path>\n",
       "<path d=\"M23 22h-14c-0.552 0-1-0.448-1-1s0.448-1 1-1h14c0.552 0 1 0.448 1 1s-0.448 1-1 1z\"></path>\n",
       "<path d=\"M23 18h-14c-0.552 0-1-0.448-1-1s0.448-1 1-1h14c0.552 0 1 0.448 1 1s-0.448 1-1 1z\"></path>\n",
       "</symbol>\n",
       "</defs>\n",
       "</svg>\n",
       "<style>/* CSS stylesheet for displaying xarray objects in jupyterlab.\n",
       " *\n",
       " */\n",
       "\n",
       ":root {\n",
       "  --xr-font-color0: var(--jp-content-font-color0, rgba(0, 0, 0, 1));\n",
       "  --xr-font-color2: var(--jp-content-font-color2, rgba(0, 0, 0, 0.54));\n",
       "  --xr-font-color3: var(--jp-content-font-color3, rgba(0, 0, 0, 0.38));\n",
       "  --xr-border-color: var(--jp-border-color2, #e0e0e0);\n",
       "  --xr-disabled-color: var(--jp-layout-color3, #bdbdbd);\n",
       "  --xr-background-color: var(--jp-layout-color0, white);\n",
       "  --xr-background-color-row-even: var(--jp-layout-color1, white);\n",
       "  --xr-background-color-row-odd: var(--jp-layout-color2, #eeeeee);\n",
       "}\n",
       "\n",
       "html[theme=dark],\n",
       "body.vscode-dark {\n",
       "  --xr-font-color0: rgba(255, 255, 255, 1);\n",
       "  --xr-font-color2: rgba(255, 255, 255, 0.54);\n",
       "  --xr-font-color3: rgba(255, 255, 255, 0.38);\n",
       "  --xr-border-color: #1F1F1F;\n",
       "  --xr-disabled-color: #515151;\n",
       "  --xr-background-color: #111111;\n",
       "  --xr-background-color-row-even: #111111;\n",
       "  --xr-background-color-row-odd: #313131;\n",
       "}\n",
       "\n",
       ".xr-wrap {\n",
       "  display: block !important;\n",
       "  min-width: 300px;\n",
       "  max-width: 700px;\n",
       "}\n",
       "\n",
       ".xr-text-repr-fallback {\n",
       "  /* fallback to plain text repr when CSS is not injected (untrusted notebook) */\n",
       "  display: none;\n",
       "}\n",
       "\n",
       ".xr-header {\n",
       "  padding-top: 6px;\n",
       "  padding-bottom: 6px;\n",
       "  margin-bottom: 4px;\n",
       "  border-bottom: solid 1px var(--xr-border-color);\n",
       "}\n",
       "\n",
       ".xr-header > div,\n",
       ".xr-header > ul {\n",
       "  display: inline;\n",
       "  margin-top: 0;\n",
       "  margin-bottom: 0;\n",
       "}\n",
       "\n",
       ".xr-obj-type,\n",
       ".xr-array-name {\n",
       "  margin-left: 2px;\n",
       "  margin-right: 10px;\n",
       "}\n",
       "\n",
       ".xr-obj-type {\n",
       "  color: var(--xr-font-color2);\n",
       "}\n",
       "\n",
       ".xr-sections {\n",
       "  padding-left: 0 !important;\n",
       "  display: grid;\n",
       "  grid-template-columns: 150px auto auto 1fr 20px 20px;\n",
       "}\n",
       "\n",
       ".xr-section-item {\n",
       "  display: contents;\n",
       "}\n",
       "\n",
       ".xr-section-item input {\n",
       "  display: none;\n",
       "}\n",
       "\n",
       ".xr-section-item input + label {\n",
       "  color: var(--xr-disabled-color);\n",
       "}\n",
       "\n",
       ".xr-section-item input:enabled + label {\n",
       "  cursor: pointer;\n",
       "  color: var(--xr-font-color2);\n",
       "}\n",
       "\n",
       ".xr-section-item input:enabled + label:hover {\n",
       "  color: var(--xr-font-color0);\n",
       "}\n",
       "\n",
       ".xr-section-summary {\n",
       "  grid-column: 1;\n",
       "  color: var(--xr-font-color2);\n",
       "  font-weight: 500;\n",
       "}\n",
       "\n",
       ".xr-section-summary > span {\n",
       "  display: inline-block;\n",
       "  padding-left: 0.5em;\n",
       "}\n",
       "\n",
       ".xr-section-summary-in:disabled + label {\n",
       "  color: var(--xr-font-color2);\n",
       "}\n",
       "\n",
       ".xr-section-summary-in + label:before {\n",
       "  display: inline-block;\n",
       "  content: '►';\n",
       "  font-size: 11px;\n",
       "  width: 15px;\n",
       "  text-align: center;\n",
       "}\n",
       "\n",
       ".xr-section-summary-in:disabled + label:before {\n",
       "  color: var(--xr-disabled-color);\n",
       "}\n",
       "\n",
       ".xr-section-summary-in:checked + label:before {\n",
       "  content: '▼';\n",
       "}\n",
       "\n",
       ".xr-section-summary-in:checked + label > span {\n",
       "  display: none;\n",
       "}\n",
       "\n",
       ".xr-section-summary,\n",
       ".xr-section-inline-details {\n",
       "  padding-top: 4px;\n",
       "  padding-bottom: 4px;\n",
       "}\n",
       "\n",
       ".xr-section-inline-details {\n",
       "  grid-column: 2 / -1;\n",
       "}\n",
       "\n",
       ".xr-section-details {\n",
       "  display: none;\n",
       "  grid-column: 1 / -1;\n",
       "  margin-bottom: 5px;\n",
       "}\n",
       "\n",
       ".xr-section-summary-in:checked ~ .xr-section-details {\n",
       "  display: contents;\n",
       "}\n",
       "\n",
       ".xr-array-wrap {\n",
       "  grid-column: 1 / -1;\n",
       "  display: grid;\n",
       "  grid-template-columns: 20px auto;\n",
       "}\n",
       "\n",
       ".xr-array-wrap > label {\n",
       "  grid-column: 1;\n",
       "  vertical-align: top;\n",
       "}\n",
       "\n",
       ".xr-preview {\n",
       "  color: var(--xr-font-color3);\n",
       "}\n",
       "\n",
       ".xr-array-preview,\n",
       ".xr-array-data {\n",
       "  padding: 0 5px !important;\n",
       "  grid-column: 2;\n",
       "}\n",
       "\n",
       ".xr-array-data,\n",
       ".xr-array-in:checked ~ .xr-array-preview {\n",
       "  display: none;\n",
       "}\n",
       "\n",
       ".xr-array-in:checked ~ .xr-array-data,\n",
       ".xr-array-preview {\n",
       "  display: inline-block;\n",
       "}\n",
       "\n",
       ".xr-dim-list {\n",
       "  display: inline-block !important;\n",
       "  list-style: none;\n",
       "  padding: 0 !important;\n",
       "  margin: 0;\n",
       "}\n",
       "\n",
       ".xr-dim-list li {\n",
       "  display: inline-block;\n",
       "  padding: 0;\n",
       "  margin: 0;\n",
       "}\n",
       "\n",
       ".xr-dim-list:before {\n",
       "  content: '(';\n",
       "}\n",
       "\n",
       ".xr-dim-list:after {\n",
       "  content: ')';\n",
       "}\n",
       "\n",
       ".xr-dim-list li:not(:last-child):after {\n",
       "  content: ',';\n",
       "  padding-right: 5px;\n",
       "}\n",
       "\n",
       ".xr-has-index {\n",
       "  font-weight: bold;\n",
       "}\n",
       "\n",
       ".xr-var-list,\n",
       ".xr-var-item {\n",
       "  display: contents;\n",
       "}\n",
       "\n",
       ".xr-var-item > div,\n",
       ".xr-var-item label,\n",
       ".xr-var-item > .xr-var-name span {\n",
       "  background-color: var(--xr-background-color-row-even);\n",
       "  margin-bottom: 0;\n",
       "}\n",
       "\n",
       ".xr-var-item > .xr-var-name:hover span {\n",
       "  padding-right: 5px;\n",
       "}\n",
       "\n",
       ".xr-var-list > li:nth-child(odd) > div,\n",
       ".xr-var-list > li:nth-child(odd) > label,\n",
       ".xr-var-list > li:nth-child(odd) > .xr-var-name span {\n",
       "  background-color: var(--xr-background-color-row-odd);\n",
       "}\n",
       "\n",
       ".xr-var-name {\n",
       "  grid-column: 1;\n",
       "}\n",
       "\n",
       ".xr-var-dims {\n",
       "  grid-column: 2;\n",
       "}\n",
       "\n",
       ".xr-var-dtype {\n",
       "  grid-column: 3;\n",
       "  text-align: right;\n",
       "  color: var(--xr-font-color2);\n",
       "}\n",
       "\n",
       ".xr-var-preview {\n",
       "  grid-column: 4;\n",
       "}\n",
       "\n",
       ".xr-var-name,\n",
       ".xr-var-dims,\n",
       ".xr-var-dtype,\n",
       ".xr-preview,\n",
       ".xr-attrs dt {\n",
       "  white-space: nowrap;\n",
       "  overflow: hidden;\n",
       "  text-overflow: ellipsis;\n",
       "  padding-right: 10px;\n",
       "}\n",
       "\n",
       ".xr-var-name:hover,\n",
       ".xr-var-dims:hover,\n",
       ".xr-var-dtype:hover,\n",
       ".xr-attrs dt:hover {\n",
       "  overflow: visible;\n",
       "  width: auto;\n",
       "  z-index: 1;\n",
       "}\n",
       "\n",
       ".xr-var-attrs,\n",
       ".xr-var-data {\n",
       "  display: none;\n",
       "  background-color: var(--xr-background-color) !important;\n",
       "  padding-bottom: 5px !important;\n",
       "}\n",
       "\n",
       ".xr-var-attrs-in:checked ~ .xr-var-attrs,\n",
       ".xr-var-data-in:checked ~ .xr-var-data {\n",
       "  display: block;\n",
       "}\n",
       "\n",
       ".xr-var-data > table {\n",
       "  float: right;\n",
       "}\n",
       "\n",
       ".xr-var-name span,\n",
       ".xr-var-data,\n",
       ".xr-attrs {\n",
       "  padding-left: 25px !important;\n",
       "}\n",
       "\n",
       ".xr-attrs,\n",
       ".xr-var-attrs,\n",
       ".xr-var-data {\n",
       "  grid-column: 1 / -1;\n",
       "}\n",
       "\n",
       "dl.xr-attrs {\n",
       "  padding: 0;\n",
       "  margin: 0;\n",
       "  display: grid;\n",
       "  grid-template-columns: 125px auto;\n",
       "}\n",
       "\n",
       ".xr-attrs dt,\n",
       ".xr-attrs dd {\n",
       "  padding: 0;\n",
       "  margin: 0;\n",
       "  float: left;\n",
       "  padding-right: 10px;\n",
       "  width: auto;\n",
       "}\n",
       "\n",
       ".xr-attrs dt {\n",
       "  font-weight: normal;\n",
       "  grid-column: 1;\n",
       "}\n",
       "\n",
       ".xr-attrs dt:hover span {\n",
       "  display: inline-block;\n",
       "  background: var(--xr-background-color);\n",
       "  padding-right: 10px;\n",
       "}\n",
       "\n",
       ".xr-attrs dd {\n",
       "  grid-column: 2;\n",
       "  white-space: pre-wrap;\n",
       "  word-break: break-all;\n",
       "}\n",
       "\n",
       ".xr-icon-database,\n",
       ".xr-icon-file-text2 {\n",
       "  display: inline-block;\n",
       "  vertical-align: middle;\n",
       "  width: 1em;\n",
       "  height: 1.5em !important;\n",
       "  stroke-width: 0;\n",
       "  stroke: currentColor;\n",
       "  fill: currentColor;\n",
       "}\n",
       "</style><pre class='xr-text-repr-fallback'>&lt;xarray.DataArray &#x27;month&#x27; (Y: 50)&gt;\n",
       "array([1, 1, 1, 1, 1, 1, 1, 1, 1, 1, 1, 1, 1, 1, 1, 1, 1, 1, 1, 1, 1, 1,\n",
       "       1, 1, 1, 1, 1, 1, 1, 1, 1, 1, 1, 1, 1, 1, 1, 1, 1, 1, 1, 1, 1, 1,\n",
       "       1, 1, 1, 1, 1, 1])\n",
       "Coordinates:\n",
       "    z_t         float32 500.0\n",
       "    L           int64 3\n",
       "  * Y           (Y) int64 1970 1971 1972 1973 1974 ... 2015 2016 2017 2018 2019\n",
       "    startmonth  int64 11</pre><div class='xr-wrap' style='display:none'><div class='xr-header'><div class='xr-obj-type'>xarray.DataArray</div><div class='xr-array-name'>'month'</div><ul class='xr-dim-list'><li><span class='xr-has-index'>Y</span>: 50</li></ul></div><ul class='xr-sections'><li class='xr-section-item'><div class='xr-array-wrap'><input id='section-2894e45a-3e65-450d-817e-8d4aa811e135' class='xr-array-in' type='checkbox' checked><label for='section-2894e45a-3e65-450d-817e-8d4aa811e135' title='Show/hide data repr'><svg class='icon xr-icon-database'><use xlink:href='#icon-database'></use></svg></label><div class='xr-array-preview xr-preview'><span>1 1 1 1 1 1 1 1 1 1 1 1 1 1 1 1 1 ... 1 1 1 1 1 1 1 1 1 1 1 1 1 1 1 1</span></div><div class='xr-array-data'><pre>array([1, 1, 1, 1, 1, 1, 1, 1, 1, 1, 1, 1, 1, 1, 1, 1, 1, 1, 1, 1, 1, 1,\n",
       "       1, 1, 1, 1, 1, 1, 1, 1, 1, 1, 1, 1, 1, 1, 1, 1, 1, 1, 1, 1, 1, 1,\n",
       "       1, 1, 1, 1, 1, 1])</pre></div></div></li><li class='xr-section-item'><input id='section-40dd22d7-eed2-4889-afb4-7073fa708546' class='xr-section-summary-in' type='checkbox'  checked><label for='section-40dd22d7-eed2-4889-afb4-7073fa708546' class='xr-section-summary' >Coordinates: <span>(4)</span></label><div class='xr-section-inline-details'></div><div class='xr-section-details'><ul class='xr-var-list'><li class='xr-var-item'><div class='xr-var-name'><span>z_t</span></div><div class='xr-var-dims'>()</div><div class='xr-var-dtype'>float32</div><div class='xr-var-preview xr-preview'>500.0</div><input id='attrs-bd1806b4-1892-40d1-9fb1-f01b86b876d3' class='xr-var-attrs-in' type='checkbox' ><label for='attrs-bd1806b4-1892-40d1-9fb1-f01b86b876d3' title='Show/Hide attributes'><svg class='icon xr-icon-file-text2'><use xlink:href='#icon-file-text2'></use></svg></label><input id='data-5176626c-367e-42d2-90fb-fc57ba688011' class='xr-var-data-in' type='checkbox'><label for='data-5176626c-367e-42d2-90fb-fc57ba688011' title='Show/Hide data repr'><svg class='icon xr-icon-database'><use xlink:href='#icon-database'></use></svg></label><div class='xr-var-attrs'><dl class='xr-attrs'><dt><span>long_name :</span></dt><dd>depth from surface to midpoint of layer</dd><dt><span>units :</span></dt><dd>centimeters</dd><dt><span>positive :</span></dt><dd>down</dd><dt><span>valid_min :</span></dt><dd>500.0</dd><dt><span>valid_max :</span></dt><dd>537500.0</dd></dl></div><div class='xr-var-data'><pre>array(500., dtype=float32)</pre></div></li><li class='xr-var-item'><div class='xr-var-name'><span>L</span></div><div class='xr-var-dims'>()</div><div class='xr-var-dtype'>int64</div><div class='xr-var-preview xr-preview'>3</div><input id='attrs-837edd7f-2dea-4768-b838-85415659dfca' class='xr-var-attrs-in' type='checkbox' disabled><label for='attrs-837edd7f-2dea-4768-b838-85415659dfca' title='Show/Hide attributes'><svg class='icon xr-icon-file-text2'><use xlink:href='#icon-file-text2'></use></svg></label><input id='data-5cd62c0e-2019-47fb-9a5a-f07549d8e4e0' class='xr-var-data-in' type='checkbox'><label for='data-5cd62c0e-2019-47fb-9a5a-f07549d8e4e0' title='Show/Hide data repr'><svg class='icon xr-icon-database'><use xlink:href='#icon-database'></use></svg></label><div class='xr-var-attrs'><dl class='xr-attrs'></dl></div><div class='xr-var-data'><pre>array(3)</pre></div></li><li class='xr-var-item'><div class='xr-var-name'><span class='xr-has-index'>Y</span></div><div class='xr-var-dims'>(Y)</div><div class='xr-var-dtype'>int64</div><div class='xr-var-preview xr-preview'>1970 1971 1972 ... 2017 2018 2019</div><input id='attrs-221347fd-7b90-48c7-b930-389c9ec40ce8' class='xr-var-attrs-in' type='checkbox' disabled><label for='attrs-221347fd-7b90-48c7-b930-389c9ec40ce8' title='Show/Hide attributes'><svg class='icon xr-icon-file-text2'><use xlink:href='#icon-file-text2'></use></svg></label><input id='data-2c712548-b4b2-46c4-bae9-6318f0ff9b71' class='xr-var-data-in' type='checkbox'><label for='data-2c712548-b4b2-46c4-bae9-6318f0ff9b71' title='Show/Hide data repr'><svg class='icon xr-icon-database'><use xlink:href='#icon-database'></use></svg></label><div class='xr-var-attrs'><dl class='xr-attrs'></dl></div><div class='xr-var-data'><pre>array([1970, 1971, 1972, 1973, 1974, 1975, 1976, 1977, 1978, 1979, 1980, 1981,\n",
       "       1982, 1983, 1984, 1985, 1986, 1987, 1988, 1989, 1990, 1991, 1992, 1993,\n",
       "       1994, 1995, 1996, 1997, 1998, 1999, 2000, 2001, 2002, 2003, 2004, 2005,\n",
       "       2006, 2007, 2008, 2009, 2010, 2011, 2012, 2013, 2014, 2015, 2016, 2017,\n",
       "       2018, 2019])</pre></div></li><li class='xr-var-item'><div class='xr-var-name'><span>startmonth</span></div><div class='xr-var-dims'>()</div><div class='xr-var-dtype'>int64</div><div class='xr-var-preview xr-preview'>11</div><input id='attrs-136b666f-f541-498f-99f0-5c1b5fe5c419' class='xr-var-attrs-in' type='checkbox' disabled><label for='attrs-136b666f-f541-498f-99f0-5c1b5fe5c419' title='Show/Hide attributes'><svg class='icon xr-icon-file-text2'><use xlink:href='#icon-file-text2'></use></svg></label><input id='data-522e9a86-b21b-4313-8a70-34b7564264cd' class='xr-var-data-in' type='checkbox'><label for='data-522e9a86-b21b-4313-8a70-34b7564264cd' title='Show/Hide data repr'><svg class='icon xr-icon-database'><use xlink:href='#icon-database'></use></svg></label><div class='xr-var-attrs'><dl class='xr-attrs'></dl></div><div class='xr-var-data'><pre>array(11)</pre></div></li></ul></div></li><li class='xr-section-item'><input id='section-acf589fa-c20c-42ea-8eeb-6b2e1a401211' class='xr-section-summary-in' type='checkbox' disabled ><label for='section-acf589fa-c20c-42ea-8eeb-6b2e1a401211' class='xr-section-summary'  title='Expand/collapse section'>Attributes: <span>(0)</span></label><div class='xr-section-inline-details'></div><div class='xr-section-details'><dl class='xr-attrs'></dl></div></li></ul></div></div>"
      ],
      "text/plain": [
       "<xarray.DataArray 'month' (Y: 50)>\n",
       "array([1, 1, 1, 1, 1, 1, 1, 1, 1, 1, 1, 1, 1, 1, 1, 1, 1, 1, 1, 1, 1, 1,\n",
       "       1, 1, 1, 1, 1, 1, 1, 1, 1, 1, 1, 1, 1, 1, 1, 1, 1, 1, 1, 1, 1, 1,\n",
       "       1, 1, 1, 1, 1, 1])\n",
       "Coordinates:\n",
       "    z_t         float32 500.0\n",
       "    L           int64 3\n",
       "  * Y           (Y) int64 1970 1971 1972 1973 1974 ... 2015 2016 2017 2018 2019\n",
       "    startmonth  int64 11"
      ]
     },
     "execution_count": 54,
     "metadata": {},
     "output_type": "execute_result"
    }
   ],
   "source": [
    "reg_time.isel(startmonth=0,L=0).dt.month"
   ]
  },
  {
   "cell_type": "code",
   "execution_count": 60,
   "metadata": {},
   "outputs": [
    {
     "data": {
      "image/png": "[encoded data removed]",
      "text/plain": [
       "<Figure size 1296x864 with 6 Axes>"
      ]
     },
     "metadata": {
      "needs_background": "light"
     },
     "output_type": "display_data"
    }
   ],
   "source": [
    "# plot skill scores\n",
    "fig = plt.figure(figsize=(18,12))\n",
    "plt.rcParams['font.size'] = '14'\n",
    "leadmon = reg_skill.L-2\n",
    "seasdict = {1:'DJF',4:'MAM',7:'JJA',10:'SON'}\n",
    "seasmon = [1,4,7,10]\n",
    "markers = ['D','o','s','P']\n",
    "colors = ['k','r','g','b']\n",
    "hindcasts = ['NOV','FEB','MAY','AUG']\n",
    "figlabs = [['a.','b.','c.'],['d.','e.','f.']]\n",
    "\n",
    "ncol = 3\n",
    "nrow = 2\n",
    "\n",
    "for i in range(ncol):\n",
    "    ax = fig.add_subplot(nrow,ncol,i+1)\n",
    "    if i==0: ax.set_ylabel('ACC', fontsize=14)\n",
    "    ax.set_title(figlabs[0][i]+' {}, ACC'.format(reg_skill.isel(region=i).region.values),loc='left')\n",
    "    for j in range(4):\n",
    "        ax.plot(leadmon,reg_skill.isel(region=i,startmonth=j).corr,color=colors[j],linewidth=2,label='SMYLE-'+hindcasts[j])\n",
    "        for k,l in zip(seasmon,markers):\n",
    "            tmp = reg_skill.isel(region=i,startmonth=j)\n",
    "            tmptime = reg_time.isel(startmonth=j)\n",
    "            ax.plot(leadmon,tmp.corr.where(tmptime.dt.month==k),color=colors[j],marker=l,markersize=11,fillstyle='none')\n",
    "            ax.plot(leadmon,tmp.corr.where(tmptime.dt.month==k).where(tmp.pval<0.1),color=colors[j],marker=l,markersize=11)\n",
    "            \n",
    "    ax.set_xticks(leadmon)\n",
    "    ax.grid(True)\n",
    "    ax.set_xlim([0,20])\n",
    "    ax.set_ylim([-0.4,1])\n",
    "        \n",
    "    ax = fig.add_subplot(nrow,ncol,i+4)\n",
    "    if i==0: ax.set_ylabel(r'nRMSE', fontsize=14)\n",
    "    ax.set_title(figlabs[1][i]+' {}, nRMSE'.format(reg_skill.isel(region=i).region.values),loc='left')\n",
    "    for j in range(4):\n",
    "        ax.plot(leadmon,reg_skill.isel(region=i,startmonth=j).rmse,color=colors[j],linewidth=2,label='SMYLE-'+hindcasts[j])\n",
    "    for j in range(4):\n",
    "        for k,l in zip(seasmon,markers):\n",
    "            tmp = reg_skill.isel(region=i,startmonth=j)\n",
    "            tmptime = reg_time.isel(startmonth=j,Y=0)\n",
    "            if j==0: ax.plot(leadmon,tmp.rmse.where(tmptime.dt.month==k),color=colors[j],marker=l,label=seasdict[k],markersize=11,linestyle='None')\n",
    "            if j!=0: ax.plot(leadmon,tmp.rmse.where(tmptime.dt.month==k),color=colors[j],marker=l,markersize=11)\n",
    "    if i==1: leg1 = ax.legend(loc='upper right',ncol=2)\n",
    "    ax.set_xticks(leadmon)\n",
    "    ax.set_xlabel('Lead Month')\n",
    "    ax.grid(True)\n",
    "    ax.set_xlim([0,20])\n",
    "    ax.set_ylim([0.5,2])\n",
    "    \n",
    "plt.savefig('f05.png')"
   ]
  },
  {
   "cell_type": "code",
   "execution_count": null,
   "metadata": {},
   "outputs": [],
   "source": []
  }
 ],
 "metadata": {
  "kernelspec": {
   "display_name": "Python [conda env:miniconda3-smyle-analysis]",
   "language": "python",
   "name": "conda-env-miniconda3-smyle-analysis-py"
  },
  "language_info": {
   "codemirror_mode": {
    "name": "ipython",
    "version": 3
   },
   "file_extension": ".py",
   "mimetype": "text/x-python",
   "name": "python",
   "nbconvert_exporter": "python",
   "pygments_lexer": "ipython3",
   "version": "3.8.0"
  }
 },
 "nbformat": 4,
 "nbformat_minor": 4
}
