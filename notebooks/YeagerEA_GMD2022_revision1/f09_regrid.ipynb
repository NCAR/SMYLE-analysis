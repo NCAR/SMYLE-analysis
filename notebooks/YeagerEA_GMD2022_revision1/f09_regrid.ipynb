{
 "cells": [
  {
   "cell_type": "markdown",
   "id": "b2b74ac6-a24b-489a-8c6e-ad0e9ad05da7",
   "metadata": {
    "tags": []
   },
   "source": [
    "# Regrid CESM-SMYLE with xESMF\n",
    "Sam Mogen"
   ]
  },
  {
   "cell_type": "code",
   "execution_count": 1,
   "id": "7c9947c7-a868-4c73-a543-6f8f03e4e4c3",
   "metadata": {},
   "outputs": [],
   "source": [
    "# packages\n",
    "%load_ext autoreload\n",
    "%autoreload 2\n",
    "import xarray as xr \n",
    "import numpy as np  \n",
    "import cftime\n",
    "import copy\n",
    "import scipy.stats\n",
    "from scipy import signal\n",
    "from functools import partial\n",
    "import glob\n",
    "import dask\n",
    "import matplotlib.pyplot as plt\n",
    "%matplotlib inline\n",
    "\n",
    "# SMYLE Utility functions\n",
    "from SMYLEutils import io_utils as io\n",
    "from SMYLEutils import calendar_utils as cal\n",
    "from SMYLEutils import stat_utils as stat"
   ]
  },
  {
   "cell_type": "code",
   "execution_count": 32,
   "id": "bc4dff47-fa2a-404d-9950-bd0feda42ce4",
   "metadata": {},
   "outputs": [],
   "source": [
    "var = 'omega_arag'\n",
    "\n",
    "# run for all inits\n",
    "init = '11' # '02','05', '08', '11'"
   ]
  },
  {
   "cell_type": "code",
   "execution_count": 33,
   "id": "0d929a37-0c3d-4c82-adef-28ac3767feec",
   "metadata": {},
   "outputs": [],
   "source": [
    "omega = xr.open_dataset(var + '.monthly.' + init + '.nc')"
   ]
  },
  {
   "cell_type": "markdown",
   "id": "d082fb9a-bfab-43c7-a7c6-4601d173b644",
   "metadata": {
    "tags": []
   },
   "source": [
    "## Regrid and save out!"
   ]
  },
  {
   "cell_type": "code",
   "execution_count": 34,
   "id": "23100b76-3198-4538-b8f3-a9ff1155ad02",
   "metadata": {},
   "outputs": [],
   "source": [
    "import xesmf as xe"
   ]
  },
  {
   "cell_type": "code",
   "execution_count": 35,
   "id": "e4d3f8db-1de3-4cdd-90f3-3fa3bcb4e2ec",
   "metadata": {},
   "outputs": [],
   "source": [
    "obs = xr.open_dataset('/glade/work/smogen/SMYLE-personal/OceanSODA-ETHZ_1985-2019_v2020b.regrid2.nc')"
   ]
  },
  {
   "cell_type": "code",
   "execution_count": 36,
   "id": "8d6daa30-f946-4ffc-99e8-e3687e06ce5a",
   "metadata": {},
   "outputs": [],
   "source": [
    "regridder_smyle = xe.Regridder(omega, obs, 'bilinear', periodic=True)"
   ]
  },
  {
   "cell_type": "code",
   "execution_count": 37,
   "id": "ae60495f-a3ff-4c79-bfd5-8c1bfd8712db",
   "metadata": {},
   "outputs": [
    {
     "name": "stderr",
     "output_type": "stream",
     "text": [
      "/glade/u/home/smogen/.conda/envs/smyle-analysis/lib/python3.8/site-packages/xesmf/frontend.py:555: FutureWarning: ``output_sizes`` should be given in the ``dask_gufunc_kwargs`` parameter. It will be removed as direct parameter in a future version.\n",
      "  ds_out = xr.apply_ufunc(\n"
     ]
    },
    {
     "name": "stdout",
     "output_type": "stream",
     "text": [
      "CPU times: user 1min 26s, sys: 5.99 s, total: 1min 32s\n",
      "Wall time: 1min 38s\n"
     ]
    }
   ],
   "source": [
    "%%time\n",
    "smyle_seas_rg = regridder_smyle(omega)"
   ]
  },
  {
   "cell_type": "code",
   "execution_count": 38,
   "id": "d4c3f4f7-b63c-4277-866d-89f78fdae3d0",
   "metadata": {},
   "outputs": [
    {
     "name": "stdout",
     "output_type": "stream",
     "text": [
      "12.192773068\n",
      "11.562517228\n"
     ]
    }
   ],
   "source": [
    "# size of the dataset\n",
    "print(smyle_seas_rg.nbytes / 1e9) # GB\n",
    "print(omega.nbytes / 1e9) # GB"
   ]
  },
  {
   "cell_type": "code",
   "execution_count": 39,
   "id": "956060d2-6a52-4f5e-9c58-a73bd2693443",
   "metadata": {},
   "outputs": [],
   "source": [
    "# FOSI Regrid\n",
    "smyle_seas_rg.to_netcdf(var + init + '.regrid.nc')"
   ]
  },
  {
   "cell_type": "code",
   "execution_count": 40,
   "id": "fa9b12de-e49a-4d17-9bb2-8f7e900cea7e",
   "metadata": {},
   "outputs": [],
   "source": [
    "del smyle_seas_rg, omega"
   ]
  },
  {
   "cell_type": "code",
   "execution_count": null,
   "id": "d8bcb24b-a139-4bb4-a373-e0cb499e2c5f",
   "metadata": {},
   "outputs": [],
   "source": []
  }
 ],
 "metadata": {
  "kernelspec": {
   "display_name": "Python [conda env:.conda-smyle-analysis]",
   "language": "python",
   "name": "conda-env-.conda-smyle-analysis-py"
  },
  "language_info": {
   "codemirror_mode": {
    "name": "ipython",
    "version": 3
   },
   "file_extension": ".py",
   "mimetype": "text/x-python",
   "name": "python",
   "nbconvert_exporter": "python",
   "pygments_lexer": "ipython3",
   "version": "3.8.0"
  }
 },
 "nbformat": 4,
 "nbformat_minor": 5
}
