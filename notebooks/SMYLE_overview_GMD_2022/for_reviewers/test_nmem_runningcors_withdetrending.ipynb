{
 "cells": [
  {
   "cell_type": "code",
   "execution_count": 22,
   "id": "fd315152-d583-4563-8130-24ec1e1883ee",
   "metadata": {},
   "outputs": [
    {
     "data": {
      "text/plain": [
       "<dask.config.set at 0x2b17a64b42e8>"
      ]
     },
     "execution_count": 22,
     "metadata": {},
     "output_type": "execute_result"
    }
   ],
   "source": [
    "import xarray as xr\n",
    "import numpy as np\n",
    "import matplotlib.pyplot as plt\n",
    "import dask\n",
    "import pandas as pd\n",
    "import glob\n",
    "import datetime\n",
    "from dateutil.relativedelta import relativedelta\n",
    "from functools import partial\n",
    "\n",
    "from SMYLEutils import calendar_utils as cal\n",
    "from SMYLEutils import eof_utils as eof\n",
    "from SMYLEutils import stat_utils as stat\n",
    "import matplotlib.lines as mlines\n",
    "\n",
    "import importlib\n",
    "importlib.reload(eof)\n",
    "\n",
    "import xskillscore as xs\n",
    "\n",
    "\n",
    "dask.config.set(**{'array.slicing.split_large_chunks': True})"
   ]
  },
  {
   "cell_type": "code",
   "execution_count": 23,
   "id": "70a375ef-5cba-40a5-a366-ae4b62fc15fe",
   "metadata": {},
   "outputs": [
    {
     "name": "stderr",
     "output_type": "stream",
     "text": [
      "/glade/u/home/islas/miniconda3/envs/ecpaperenv/lib/python3.6/site-packages/distributed/node.py:155: UserWarning: Port 8787 is already in use.\n",
      "Perhaps you already have a cluster running?\n",
      "Hosting the HTTP server on port 36595 instead\n",
      "  http_address[\"port\"], self.http_server.port\n"
     ]
    }
   ],
   "source": [
    "from dask_jobqueue import PBSCluster\n",
    "from dask.distributed import Client\n",
    "\n",
    "cluster = PBSCluster(\n",
    "    cores = 1,\n",
    "    memory = '10GB',\n",
    "    processes = 1,\n",
    "    queue = 'casper',\n",
    "    local_directory='$TMPDIR',\n",
    "    resource_spec='select=1:ncpus=1:mem=10GB',\n",
    "    project='P04010022',\n",
    "    walltime='02:00:00',\n",
    "    interface='ib0')\n",
    "\n",
    "# scale up\n",
    "cluster.scale(20)\n",
    "\n",
    "# change your urls to the dask dashboard so that you can see it\n",
    "dask.config.set({'distributed.dashboard.link':'https://jupyterhub.hpc.ucar.edu/stable/user/{USER}/proxy/{port}/status'})\n",
    "\n",
    "# Setup your client\n",
    "client = Client(cluster)"
   ]
  },
  {
   "cell_type": "code",
   "execution_count": 26,
   "id": "64fc8e10-3627-4cad-835b-50eca574cfdd",
   "metadata": {},
   "outputs": [
    {
     "data": {
      "text/html": [
       "<table style=\"border: 2px solid white;\">\n",
       "<tr>\n",
       "<td style=\"vertical-align: top; border: 0px solid white\">\n",
       "<h3 style=\"text-align: left;\">Client</h3>\n",
       "<ul style=\"text-align: left; list-style: none; margin: 0; padding: 0;\">\n",
       "  <li><b>Scheduler: </b>tcp://10.12.206.54:33608</li>\n",
       "  <li><b>Dashboard: </b><a href='https://jupyterhub.hpc.ucar.edu/stable/user/islas/proxy/36595/status' target='_blank'>https://jupyterhub.hpc.ucar.edu/stable/user/islas/proxy/36595/status</a></li>\n",
       "</ul>\n",
       "</td>\n",
       "<td style=\"vertical-align: top; border: 0px solid white\">\n",
       "<h3 style=\"text-align: left;\">Cluster</h3>\n",
       "<ul style=\"text-align: left; list-style:none; margin: 0; padding: 0;\">\n",
       "  <li><b>Workers: </b>20</li>\n",
       "  <li><b>Cores: </b>20</li>\n",
       "  <li><b>Memory: </b>200.00 GB</li>\n",
       "</ul>\n",
       "</td>\n",
       "</tr>\n",
       "</table>"
      ],
      "text/plain": [
       "<Client: 'tcp://10.12.206.54:33608' processes=20 threads=20, memory=200.00 GB>"
      ]
     },
     "execution_count": 26,
     "metadata": {},
     "output_type": "execute_result"
    }
   ],
   "source": [
    "client"
   ]
  },
  {
   "cell_type": "code",
   "execution_count": 27,
   "id": "609c3147-9906-4db3-9a37-11821f238aaa",
   "metadata": {},
   "outputs": [],
   "source": [
    "ystartsmyle=1970\n",
    "ystart=1954 # start year of hindcasts\n",
    "yend = 2017 # end year of hindcasts\n",
    "nyears=yend-ystart+1\n",
    "initmon=[2,5,8,11] # initialization month\n",
    "domain = \"atm\" ; freq=\"month_1\" ; var=\"PSL\"\n",
    "nmems = 20 # the number of hindcast members\n",
    "memstr = [str(i).zfill(3) for i in np.arange(1,nmems+1,1)] # generating member strings\n",
    "topdir=\"/glade/campaign/cesm/development/espwg/SMYLE/archive/\"\n",
    "expname=\"b.e21.BSMYLE.f09_g17\""
   ]
  },
  {
   "cell_type": "code",
   "execution_count": 28,
   "id": "c2d73b82-07df-4bf3-a7b1-eb098e39f9e0",
   "metadata": {},
   "outputs": [],
   "source": [
    "# pre-processor to ensure all initialization dates have the same time axis\n",
    "def preprocessor(ds):\n",
    "    # sort out the times so that each member has the same time axis\n",
    "    timebndavg = np.array(ds.time_bnds,\n",
    "                         dtype = 'datetime64[s]').view('i8').mean(axis=1).astype('datetime64[s]')\n",
    "    ds['time'] = timebndavg\n",
    "    datestart = pd.to_datetime(\"1970-\"+str(ds.isel(time=0).time.dt.month.values).zfill(2)+\"-\"+str(ds.isel(time=0).time.dt.day.values).zfill(2))\n",
    "    time = [ datestart + relativedelta(months=i) for i in np.arange(0,24,1) ]\n",
    "    ds['time'] = time\n",
    "    return ds"
   ]
  },
  {
   "cell_type": "code",
   "execution_count": 29,
   "id": "cb713e7a-eec8-4888-b8b9-df0da8167f7a",
   "metadata": {},
   "outputs": [],
   "source": [
    "# Function for selecting the North Atlantic domain\n",
    "def getnatl(ds):\n",
    "    datwest = ds.sel(lon=slice(360-90,359.9))\n",
    "    dateast = ds.sel(lon=slice(0,40))\n",
    "    datwest['lon'] = datwest.lon - 360.\n",
    "    datout = xr.concat([datwest, dateast], dim='lon')\n",
    "    datout = datout.sel(lat=slice(20,80))\n",
    "    return datout"
   ]
  },
  {
   "cell_type": "code",
   "execution_count": 30,
   "id": "c6aabcc6-7dbd-4424-9999-bce34539c56f",
   "metadata": {},
   "outputs": [],
   "source": [
    "# Remove lead dependent climatologies\n",
    "# Calculate seasonal means,  drop the incomplite seasons\n",
    "# rename time axis to season\n",
    "def sortoutarrays(dat):\n",
    "    dat = dat - dat.mean(['M','init_year'])\n",
    "    dat = dat.dropna(dim='time')\n",
    "    dat = dat.rename({'time':'season'})\n",
    "    dat = dat.dropna(dim='season').compute()\n",
    "    return dat"
   ]
  },
  {
   "cell_type": "markdown",
   "id": "e8044f3d-c0f0-4801-86b2-201623be8d3a",
   "metadata": {},
   "source": [
    "### Read in SMYLE"
   ]
  },
  {
   "cell_type": "code",
   "execution_count": 31,
   "id": "85ec5550-ccc6-4564-863b-dea0a93b7439",
   "metadata": {},
   "outputs": [],
   "source": [
    "novfiles = []\n",
    "for iyear in np.arange(ystartsmyle, yend+1, 1):\n",
    "    novfilest=[glob.glob(topdir+expname+\".\"+str(iyear)+\"-11.\"+imem+\"/\"+domain+\"/proc/tseries/\"+freq+\"/*.\"+var+\".*\")[0] for imem in memstr]\n",
    "    novfiles.append(novfilest)"
   ]
  },
  {
   "cell_type": "code",
   "execution_count": 32,
   "id": "3d6ea983-4466-4047-bd27-b23bf581b10e",
   "metadata": {},
   "outputs": [],
   "source": [
    "nov = xr.open_mfdataset(novfiles, combine='nested', concat_dim=['init_year','M'],\n",
    "                        parallel=True, data_vars=[var], coords='minimal', compat='override', preprocess=partial(preprocessor))\n",
    "nov_natl = getnatl(nov)\n",
    "nov_natl_seas = cal.mon_to_seas(nov_natl.PSL).compute()"
   ]
  },
  {
   "cell_type": "code",
   "execution_count": 33,
   "id": "defacf65-6892-4f1b-a440-806268810942",
   "metadata": {},
   "outputs": [],
   "source": [
    "nov_natl_seas = sortoutarrays(nov_natl_seas)"
   ]
  },
  {
   "cell_type": "code",
   "execution_count": 34,
   "id": "bdf24d93-ec5c-412c-abe1-1a84e94d08f6",
   "metadata": {},
   "outputs": [],
   "source": [
    "nov_natl_seas = nov_natl_seas.rename('nov_natl_seas')"
   ]
  },
  {
   "cell_type": "markdown",
   "id": "6ff6aa64-c2bb-4c4c-b7f9-1cfb371e6f03",
   "metadata": {},
   "source": [
    "### Read in DPLE"
   ]
  },
  {
   "cell_type": "code",
   "execution_count": 35,
   "id": "402b4664-61fd-4924-91c7-060d6da7e906",
   "metadata": {},
   "outputs": [],
   "source": [
    "dplefiles = []\n",
    "topdirdple=\"/glade/campaign/cesm/collections/CESM1-DPLE/atm/proc/tseries/monthly/PSL/\"\n",
    "memstrdple = [str(i).zfill(3) for i in np.arange(1,40+1,1)]\n",
    "for iyear in np.arange(ystart,yend+1,1):\n",
    "    dplefilest=[glob.glob(topdirdple+'b.e11.BDP.f09_g16.'+str(iyear)+'-11.'+imem+'.*.nc')[0] for imem in memstrdple]\n",
    "    dplefiles.append(dplefilest)"
   ]
  },
  {
   "cell_type": "code",
   "execution_count": 36,
   "id": "c2885286-5dcf-4d12-a2a1-e3b56b162ad8",
   "metadata": {},
   "outputs": [],
   "source": [
    "# pre-processor to ensure all initialization dates have the same time axis\n",
    "def preprocessor(ds):\n",
    "    # sort out the times so that each member has the same time axis\n",
    "    timebndavg = np.array(ds.time_bnds,\n",
    "                         dtype = 'datetime64[s]').view('i8').mean(axis=1).astype('datetime64[s]')\n",
    "    ds['time'] = timebndavg\n",
    "    ds = ds.isel(time=slice(0,24))\n",
    "    datestart = pd.to_datetime(\"1970-\"+str(ds.isel(time=0).time.dt.month.values).zfill(2)+\"-\"+str(ds.isel(time=0).time.dt.day.values).zfill(2))\n",
    "    time = [ datestart + relativedelta(months=i) for i in np.arange(0,24,1) ]\n",
    "    ds['time'] = time\n",
    "    return ds"
   ]
  },
  {
   "cell_type": "code",
   "execution_count": 37,
   "id": "a1e89b0b-5133-4a25-8fd0-614342ffd0b0",
   "metadata": {},
   "outputs": [],
   "source": [
    "novdple = xr.open_mfdataset(dplefiles, combine='nested', concat_dim=['init_year','M'],\n",
    "                        parallel=True, data_vars=[var], coords='minimal', compat='override', preprocess=partial(preprocessor))"
   ]
  },
  {
   "cell_type": "code",
   "execution_count": 38,
   "id": "807be8c4-5b55-472e-b15d-6cf267489c91",
   "metadata": {},
   "outputs": [],
   "source": [
    "novdple_natl = getnatl(novdple)\n",
    "novdple_natl_seas = cal.mon_to_seas(novdple_natl.PSL).compute()"
   ]
  },
  {
   "cell_type": "code",
   "execution_count": 39,
   "id": "56ace4a5-32d9-4bb2-82e6-d77abbffc432",
   "metadata": {},
   "outputs": [],
   "source": [
    "novdple_natl_seas = sortoutarrays(novdple_natl_seas)\n",
    "novdple_natl_seas = novdple_natl_seas.rename('novdple_natl_seas')"
   ]
  },
  {
   "cell_type": "code",
   "execution_count": 40,
   "id": "cb66c51b-e460-4c5c-a0a1-2a09258a3d0f",
   "metadata": {},
   "outputs": [],
   "source": [
    "novdple_natl_seas = novdple_natl_seas.load()"
   ]
  },
  {
   "cell_type": "markdown",
   "id": "9fa40503-6778-41e4-9078-5ce9aa19b202",
   "metadata": {},
   "source": [
    "### Read in ERA5"
   ]
  },
  {
   "cell_type": "code",
   "execution_count": 41,
   "id": "c1ba6dc7-72e3-48e8-aa1e-07bec82f5274",
   "metadata": {},
   "outputs": [],
   "source": [
    "era5file=\"/glade/campaign/cesm/development/espwg/verification_datasets/mon/SLP/SLP_ERA5_oncamgrid_1950_2020.nc\"\n",
    "era5 = xr.open_dataset(era5file)\n",
    "era5 = era5.slp\n",
    "\n",
    "\n",
    "nov_era5 = xr.DataArray(np.zeros([novdple.init_year.size, nov.time.size, era5.lat.size, era5.lon.size]),\n",
    "                        dims=['init_year','time','lat','lon'],\n",
    "                        coords=[novdple.init_year, nov.time, nov.lat, nov.lon], name='nov_era5')\n",
    "\n",
    "#for iyear in np.arange(ystart,yend+1,1):\n",
    "for iyear in np.arange(ystart,yend+1,1):\n",
    "    nov_era5[iyear-ystart,:,:,:] = np.array(era5.sel(time=slice(str(iyear)+\"-11\",str(iyear+2)+\"-10\")))\n",
    "    \n",
    "nov_era5_seas = cal.mon_to_seas(nov_era5).dropna(dim='time')\n",
    "nov_era5_seas = nov_era5_seas.rename({'time':'season'})\n",
    "nov_era5_natl_seas = getnatl(nov_era5_seas)\n",
    "nov_era5_natl_seas = nov_era5_natl_seas - nov_era5_natl_seas.mean('init_year')"
   ]
  },
  {
   "cell_type": "markdown",
   "id": "26739285-2730-47d1-b86e-3551a5b22839",
   "metadata": {},
   "source": [
    "### NAO calculations"
   ]
  },
  {
   "cell_type": "code",
   "execution_count": 42,
   "id": "71e19652-9366-4c56-bf78-b78f3bf3a531",
   "metadata": {},
   "outputs": [],
   "source": [
    "def makestnao(dat):\n",
    "    reyklon = -21.9426 ; reyklat = 64.1466\n",
    "    #azorelon = -25.6687 ; azorelat = 25.6687\n",
    "    portlon = -9.1393 ; portlat = 38.72\n",
    "    \n",
    "    port = dat.sel(lon=portlon, lat=portlat, method='nearest') ; re = dat.sel(lon=reyklon, lat=reyklat, method='nearest')\n",
    "    port = (port - port.mean('init_year'))/port.std(dim='init_year') ; re = (re - re.mean('init_year'))/re.std(dim='init_year')\n",
    "    nao = port - re\n",
    "    return nao"
   ]
  },
  {
   "cell_type": "code",
   "execution_count": 43,
   "id": "aa0dfe21-519b-4542-8611-849aba9c8c6f",
   "metadata": {},
   "outputs": [],
   "source": [
    "nao_st_nov_smyle = makestnao(nov_natl_seas)\n",
    "nao_st_nov_era5 = makestnao(nov_era5_natl_seas)\n",
    "nao_st_nov_dple = makestnao(novdple_natl_seas)"
   ]
  },
  {
   "cell_type": "code",
   "execution_count": 44,
   "id": "bece3582-fd91-4c55-834a-b28e4cca2174",
   "metadata": {},
   "outputs": [],
   "source": [
    "#SMYLE\n",
    "def calcNAO(dat,lonneg, latneg):\n",
    "    dat = dat.stack(z=['M','init_year'])\n",
    "    pc = xr.DataArray(np.zeros([dat.z.size, dat.season.size]), dims=['z','season'],\n",
    "                      coords=[dat.z, dat.season],name='pc')\n",
    "    pattern = xr.DataArray(np.zeros([dat.season.size, dat.lat.size, dat.lon.size]),\n",
    "                           dims=['season','lat','lon'], \n",
    "                           coords=[dat.season, dat.lat, dat.lon], name='pattern')\n",
    "    for iseas in np.arange(0, dat.season.size,1):\n",
    "        pct, eoft = eof.eofcalc_pcnorm(dat.isel(season=iseas), neofs=1, timeaxis='z', lonneg=lonneg, latneg=latneg)\n",
    "        pc[:,iseas] = pct[:,0]\n",
    "        pattern[iseas,:,:] = eoft[0,:,:]\n",
    "    pc = pc.unstack(dim='z')\n",
    "    return pc, pattern\n",
    "\n",
    "pc_nov, pattern_nov = calcNAO(nov_natl_seas, -20, 75)\n",
    "pc_nov_dple, pattern_nov_dple = calcNAO(novdple_natl_seas, -20, 75)"
   ]
  },
  {
   "cell_type": "code",
   "execution_count": 45,
   "id": "09fdb879-e0b1-4fa5-b8c4-f73fa001642f",
   "metadata": {},
   "outputs": [],
   "source": [
    "#ERA5\n",
    "def calcNAO(dat, lonneg, latneg):\n",
    "    pc = xr.DataArray(np.zeros([dat.init_year.size, dat.season.size]), dims=['init_year','season'],\n",
    "                      coords=[dat.init_year, dat.season],name='pc')\n",
    "    pattern = xr.DataArray(np.zeros([dat.season.size, dat.lat.size, dat.lon.size]),\n",
    "                           dims=['season','lat','lon'], \n",
    "                           coords=[dat.season, dat.lat, dat.lon], name='pattern')\n",
    "    for iseas in np.arange(0, dat.season.size,1):\n",
    "        pct, eoft = eof.eofcalc_pcnorm(dat.isel(season=iseas), neofs=1, timeaxis='init_year', lonneg=lonneg, latneg=latneg)\n",
    "        pc[:,iseas] = pct[:,0]\n",
    "        pattern[iseas,:,:] = eoft[0,:,:]\n",
    "    return pc, pattern\n",
    "\n",
    "pc_nov_era5, pattern_nov_era5 = calcNAO(nov_era5_natl_seas, -20, 75)"
   ]
  },
  {
   "cell_type": "code",
   "execution_count": 46,
   "id": "9e23a2a1-d4a2-4f36-a2b9-efe053e55241",
   "metadata": {},
   "outputs": [],
   "source": [
    "### Station based NAO DJF after NAO initialization\n",
    "nao_st_nov_dple = nao_st_nov_dple.isel(season=0)\n",
    "nao_st_nov_era5 = nao_st_nov_era5.isel(season=0)\n",
    "nao_st_nov_smyle = nao_st_nov_smyle.isel(season=0)"
   ]
  },
  {
   "cell_type": "code",
   "execution_count": 47,
   "id": "ff4b5679-64a6-4ff2-a961-a88f7e557cc1",
   "metadata": {},
   "outputs": [],
   "source": [
    "nao_st_nov_dple = nao_st_nov_dple.load()\n",
    "nao_st_nov_era5 = nao_st_nov_era5.load()\n",
    "nao_st_nov_smyle = nao_st_nov_smyle.load()"
   ]
  },
  {
   "cell_type": "code",
   "execution_count": 50,
   "id": "b3b21975-6818-4eaf-a0ef-76a7029c81d3",
   "metadata": {},
   "outputs": [],
   "source": [
    "nao_st_nov_dple_mean = nao_st_nov_dple.mean('M')\n",
    "nao_st_nov_smyle_mean = nao_st_nov_smyle.mean('M')"
   ]
  },
  {
   "cell_type": "code",
   "execution_count": 54,
   "id": "94102a9f-3af2-412a-ab9e-e033c4506119",
   "metadata": {},
   "outputs": [],
   "source": [
    "from CASutils import linfit_utils as linfit\n",
    "a, b = linfit.linfit_xy(nao_st_nov_dple_mean.init_year, nao_st_nov_dple_mean)\n",
    "trend_dple = a + b*nao_st_nov_dple_mean.init_year\n",
    "\n",
    "a, b = linfit.linfit_xy(nao_st_nov_smyle_mean.init_year, nao_st_nov_smyle_mean)\n",
    "trend_smyle = a + b*nao_st_nov_smyle_mean.init_year\n",
    "\n",
    "a, b = linfit.linfit_xy(nao_st_nov_era5.init_year, nao_st_nov_era5)\n",
    "trend_era5 = a + b*nao_st_nov_era5.init_year"
   ]
  },
  {
   "cell_type": "code",
   "execution_count": 57,
   "id": "88f3f6e0-e2b8-48e5-807f-0617e055fb2b",
   "metadata": {},
   "outputs": [],
   "source": [
    "nao_st_nov_dple = nao_st_nov_dple - trend_dple\n",
    "nao_st_nov_era5 = nao_st_nov_era5 - trend_era5\n",
    "nao_st_nov_smyle = nao_st_nov_smyle - trend_smyle"
   ]
  },
  {
   "cell_type": "markdown",
   "id": "804e0e03-91e8-4629-b01c-3d480da9f288",
   "metadata": {},
   "source": [
    "### Investigating sensitivity of skill to ensemble size"
   ]
  },
  {
   "cell_type": "code",
   "execution_count": null,
   "id": "f8a668ae-c2c1-4bd5-96f9-682602bb71b2",
   "metadata": {},
   "outputs": [],
   "source": [
    "from CASutils import bootstrap_utils as boot\n",
    "\n",
    "memsize=np.arange(1,40+1,1)\n",
    "\n",
    "mincor=np.zeros([len(memsize)]) ; maxcor = np.zeros([len(memsize)]) ; meancor = np.zeros([len(memsize)])\n",
    "\n",
    "for i in np.arange(0,len(memsize),1):\n",
    "    boot_dple = boot.bootgen(nao_st_nov_dple, nsamples=memsize[i], nboots=1000)\n",
    "    boot_dplem = boot_dple.mean('isample')\n",
    "    corboot = xr.corr(boot_dplem, nao_st_nov_era5, dim='init_year')\n",
    "    mincor[i] = corboot.quantile(0.025, dim='iboot')\n",
    "    maxcor[i] = corboot.quantile(0.975, dim='iboot')\n",
    "    meancor[i] = np.mean(np.array(corboot))"
   ]
  },
  {
   "cell_type": "code",
   "execution_count": 59,
   "id": "0a94da14-c0ce-4fa0-8e01-0ed1733d2a51",
   "metadata": {},
   "outputs": [],
   "source": [
    "years = np.arange(ystart,yend+1,1)\n",
    "nao_st_nov_dple['init_year'] = years "
   ]
  },
  {
   "cell_type": "code",
   "execution_count": 60,
   "id": "0394faee-5896-4725-ad10-0327864b3d80",
   "metadata": {},
   "outputs": [],
   "source": [
    "nao_st_nov_era5['init_year'] = years"
   ]
  },
  {
   "cell_type": "code",
   "execution_count": 61,
   "id": "d2af235d-3c32-4acc-bc12-c191c7648c22",
   "metadata": {},
   "outputs": [],
   "source": [
    "yearsmyle = np.arange(ystartsmyle,yend+1,1)\n",
    "nao_st_nov_smyle['init_year'] = yearsmyle"
   ]
  },
  {
   "cell_type": "code",
   "execution_count": 62,
   "id": "bb6ca8b1-2562-4a39-a9fb-e8ffde4efbf5",
   "metadata": {},
   "outputs": [],
   "source": [
    "dple_smyleperiod = nao_st_nov_dple.sel(init_year=slice(np.min(yearsmyle), np.max(yearsmyle)))\n",
    "era5_smyleperiod = nao_st_nov_era5.sel(init_year=slice(np.min(yearsmyle), np.max(yearsmyle)))"
   ]
  },
  {
   "cell_type": "code",
   "execution_count": null,
   "id": "a4c65222-1620-45d4-a320-1ff38bf6deb8",
   "metadata": {},
   "outputs": [],
   "source": [
    "memsize=np.arange(1,40+1,1)\n",
    "\n",
    "mincor_smylep=np.zeros([len(memsize)]) ; maxcor_smylep = np.zeros([len(memsize)]) ; meancor_smylep = np.zeros([len(memsize)])\n",
    "mincor_smyle=np.zeros([len(memsize)]) ; maxcor_smyle = np.zeros([len(memsize)]) ; meancor_smyle = np.zeros([len(memsize)])\n",
    "pval_smylep = np.zeros([len(memsize)])\n",
    "\n",
    "for i in np.arange(0,len(memsize),1):\n",
    "    boot_dple = boot.bootgen(dple_smyleperiod, nsamples=memsize[i], nboots=1000)\n",
    "    boot_dplem = boot_dple.mean('isample')\n",
    "    corboot = xr.corr(boot_dplem, era5_smyleperiod, dim='init_year')\n",
    "    mincor_smylep[i] = corboot.quantile(0.025, dim='iboot')\n",
    "    maxcor_smylep[i] = corboot.quantile(0.975, dim='iboot')\n",
    "    meancor_smylep[i] = np.mean(np.array(corboot))\n",
    "    \n",
    "    boot_dplem = boot_dplem.rename({'init_year':'time'})\n",
    "    era5 = era5_smyleperiod.rename({'init_year':'time'})\n",
    "    pval_smylep[i] = xs.pearson_r_eff_p_value(boot_dplem.mean('iboot'), era5, dim='time')\n",
    "    \n",
    "    boot_smyle = boot.bootgen(nao_st_nov_smyle, nsamples=memsize[i], nboots=1000)\n",
    "    boot_smylem = boot_smyle.mean('isample')\n",
    "    corboot = xr.corr(boot_smylem, era5_smyleperiod, dim='init_year')\n",
    "    mincor_smyle[i] = corboot.quantile(0.025, dim='iboot')\n",
    "    maxcor_smyle[i] = corboot.quantile(0.975, dim='iboot')\n",
    "    meancor_smyle[i] = np.mean(np.array(corboot))"
   ]
  },
  {
   "cell_type": "code",
   "execution_count": 64,
   "id": "edc7a666-606e-4284-a46d-84a775b81ce2",
   "metadata": {},
   "outputs": [
    {
     "data": {
      "image/png": "[encoded data removed]",
      "text/plain": [
       "<Figure size 1152x1152 with 2 Axes>"
      ]
     },
     "metadata": {
      "needs_background": "light"
     },
     "output_type": "display_data"
    }
   ],
   "source": [
    "fig = plt.figure(figsize=(16,16))\n",
    "\n",
    "ax = fig.add_axes([0.05,0.7,0.4,0.25])\n",
    "ax.set_xlim(1,40)\n",
    "ax.set_ylim(-0.1,0.5)\n",
    "ax.set_xticks([5,10,15,20,25,30,35,40])\n",
    "ax.set_xticklabels(['5','10','15','20','25','30','35','40'], fontsize=12)\n",
    "ax.set_yticks([-0.1,0,0.1,0.2,0.3,0.4,0.5])\n",
    "ax.set_yticklabels(['-0.1','0','0.1','0.2','0.3','0.4','0.5'], fontsize=12)\n",
    "ax.set_ylabel('Correlation', fontsize=14)\n",
    "ax.set_title('Correlation, station based NAO, 1954-2017', fontsize=16)\n",
    "ax.plot([1,40],[0,0], color='black', zorder=0)\n",
    "ax.set_xlabel('Ensemble size', fontsize=12)\n",
    "ax.set_ylabel('Correlation', fontsize=12)\n",
    "\n",
    "ax.fill_between(memsize, mincor, maxcor, color='gray', alpha=0.5, label='DPLE 95%')\n",
    "ax.plot(memsize, meancor, color='black', linewidth=2, label='DPLE')\n",
    "#ax.plot(memsize, meancor_smylep, color='red', linewidth=2)\n",
    "\n",
    "ax = fig.add_axes([0.52,0.7,0.4,0.25])\n",
    "ax.set_xlim(1,40)\n",
    "ax.set_ylim(-0.1,0.5)\n",
    "ax.set_xticks([5,10,15,20,25,30,35,40])\n",
    "ax.set_xticklabels(['5','10','15','20','25','30','35','40'], fontsize=12)\n",
    "ax.set_yticks([-0.1,0,0.1,0.2,0.3,0.4,0.5])\n",
    "ax.set_yticklabels(['-0.1','0','0.1','0.2','0.3','0.4','0.5'], fontsize=12)\n",
    "ax.set_ylabel('Correlation', fontsize=14)\n",
    "ax.set_title('Correlation, station based NAO, 1970-2017', fontsize=16)\n",
    "ax.plot([1,40],[0,0], color='black', zorder=0)\n",
    "ax.set_xlabel('Ensemble size', fontsize=12)\n",
    "ax.set_ylabel('Correlation', fontsize=12)\n",
    "\n",
    "ax.fill_between(memsize, mincor_smylep, maxcor_smylep, color='gray', alpha=0.5, label='DPLE 95%')\n",
    "ax.plot(memsize, meancor_smylep, color='black', linewidth=2, label='DPLE')\n",
    "\n",
    "ax.plot(memsize[0:20], meancor_smyle[0:20], color='red', linewidth=2, label='SMYLE')\n",
    "ax.legend()\n",
    "\n",
    "fig.savefig('cor_vs_members.png', bbox_inches='tight', facecolor='white')"
   ]
  },
  {
   "cell_type": "markdown",
   "id": "2f695dfe-902d-49d0-8683-f3b6cb413ad3",
   "metadata": {},
   "source": [
    "### Skill over the period"
   ]
  },
  {
   "cell_type": "code",
   "execution_count": 114,
   "id": "d280dc3b-ebd2-4a4b-9028-f3b29f348f94",
   "metadata": {},
   "outputs": [],
   "source": [
    "nysm=40\n",
    "rolling_era5 = nao_st_nov_era5.rolling(init_year=nysm, min_periods=nysm, center=\"True\")\n",
    "rolling_era5 = rolling_era5.construct(\"yinchunk\")\n",
    "rolling_era5 = rolling_era5.dropna(dim='init_year')\n",
    "\n",
    "rolling_era5_smyle = era5_smyleperiod.rolling(init_year=nysm, min_periods=nysm, center=\"True\")\n",
    "rolling_era5_smyle = rolling_era5_smyle.construct(\"yinchunk\")\n",
    "rolling_era5_smyle = rolling_era5_smyle.dropna(dim='init_year')\n",
    "\n",
    "rolling_dple = nao_st_nov_dple.rolling(init_year=nysm, min_periods=nysm, center=\"True\")\n",
    "rolling_dple = rolling_dple.construct(\"yinchunk\")\n",
    "rolling_dplem = rolling_dple.mean('M')\n",
    "rolling_dplem = rolling_dplem.dropna(dim='init_year')\n",
    "\n",
    "rolling_smyle = nao_st_nov_smyle.rolling(init_year=nysm, min_periods=nysm, center='True')\n",
    "rolling_smyle = rolling_smyle.construct(\"yinchunk\")\n",
    "rolling_smylem = rolling_smyle.mean('M')\n",
    "rolling_smylem = rolling_smylem.dropna(dim='init_year')"
   ]
  },
  {
   "cell_type": "code",
   "execution_count": 115,
   "id": "479f1e01-a84e-4b6e-9615-ac988b6b8ce3",
   "metadata": {},
   "outputs": [],
   "source": [
    "rolling_era5 = rolling_era5.rename({'yinchunk':'time'})\n",
    "rolling_era5_smyle = rolling_era5_smyle.rename({'yinchunk':'time'})\n",
    "rolling_dplem = rolling_dplem.rename({'yinchunk':'time'})\n",
    "rolling_smylem = rolling_smylem.rename({'yinchunk':'time'})"
   ]
  },
  {
   "cell_type": "code",
   "execution_count": 116,
   "id": "3129ff16-adb6-4208-87f7-db781f414c57",
   "metadata": {},
   "outputs": [],
   "source": [
    "rolling_correlation = xr.corr(rolling_era5, rolling_dplem, dim='time')\n",
    "rolling_signif = xs.pearson_r_eff_p_value(rolling_dplem, rolling_era5, dim='time')\n",
    "\n",
    "rolling_correlation_smyle = xr.corr(rolling_era5_smyle, rolling_smylem, dim='time')\n",
    "rolling_signif_smyle = xs.pearson_r_eff_p_value(rolling_smylem, rolling_era5_smyle, dim='time')"
   ]
  },
  {
   "cell_type": "code",
   "execution_count": 117,
   "id": "0ebe6023-d36e-4182-ae76-6d6bb7c01b44",
   "metadata": {},
   "outputs": [],
   "source": [
    "from math import nan\n",
    "rolling_signifplot = rolling_correlation.copy(deep='True')\n",
    "rolling_signifplot[rolling_signif > 0.1] = nan\n",
    "\n",
    "rolling_signifplot_smyle = rolling_correlation_smyle.copy(deep='True')\n",
    "rolling_signifplot_smyle[rolling_signif_smyle > 0.1] = nan"
   ]
  },
  {
   "cell_type": "code",
   "execution_count": 118,
   "id": "4c7d34e5-8fc6-4c2b-b51c-17491dd5ee86",
   "metadata": {},
   "outputs": [
    {
     "data": {
      "image/png": "[encoded data removed]",
      "text/plain": [
       "<Figure size 1152x1152 with 1 Axes>"
      ]
     },
     "metadata": {
      "needs_background": "light"
     },
     "output_type": "display_data"
    }
   ],
   "source": [
    "fig = plt.figure(figsize=(16,16))\n",
    "\n",
    "dplecor = xr.corr(nao_st_nov_dple.mean('M'), nao_st_nov_era5, dim='init_year')\n",
    "smylecor = xr.corr(nao_st_nov_smyle.mean('M'), era5_smyleperiod, dim='init_year')\n",
    "\n",
    "ax = fig.add_axes([0.05,0.7,0.45,0.25])\n",
    "ax.set_title(str(nysm)+'y running correlations', fontsize=16)\n",
    "ax.set_ylabel('Correlation', fontsize=12)\n",
    "ax.set_ylim(-0.3,0.8)\n",
    "\n",
    "ax.plot(rolling_correlation.init_year, rolling_correlation, color='black', label='DPLE ('+str(nysm)+' year running correlations)')\n",
    "ax.plot(rolling_signifplot.init_year, rolling_signifplot,\"o\", color='black', label='p<0.1')\n",
    "ax.plot(rolling_signifplot_smyle.init_year, rolling_correlation_smyle, color='royalblue', label='SMYLE ('+str(nysm)+' year running correlations)')\n",
    "ax.plot(rolling_signifplot_smyle.init_year, rolling_signifplot_smyle, \"o\", color='royalblue', label='p<0.1')\n",
    "ax.plot([1964,2007],[dplecor, dplecor], color='black', linewidth=2, linestyle='dotted', label='DPLE (1954-2017)')\n",
    "ax.plot([1985,2005],[smylecor, smylecor], color='royalblue', linestyle='dotted', label='SMYLE (1970-2017)')\n",
    "ax.legend(loc='upper left', ncol=2)\n",
    "\n",
    "fig.savefig(str(nysm)+'y_cors.png', bbox_inches='tight', facecolor='white')"
   ]
  },
  {
   "cell_type": "code",
   "execution_count": 273,
   "id": "4cb2e3aa-d706-4eb3-b341-a5017141b459",
   "metadata": {},
   "outputs": [
    {
     "name": "stdout",
     "output_type": "stream",
     "text": [
      "<xarray.DataArray (init_year: 1)>\n",
      "array([0.17057969])\n",
      "Coordinates:\n",
      "    season     datetime64[ns] 1971-01-15\n",
      "  * init_year  (init_year) int64 1986\n"
     ]
    }
   ],
   "source": [
    "print(rolling_correlation)"
   ]
  },
  {
   "cell_type": "code",
   "execution_count": 256,
   "id": "bfe64bdf-08d2-4cfb-8e5b-6778a8c2b9d3",
   "metadata": {},
   "outputs": [
    {
     "data": {
      "text/plain": [
       "[<matplotlib.lines.Line2D at 0x2b6a12808128>]"
      ]
     },
     "execution_count": 256,
     "metadata": {},
     "output_type": "execute_result"
    },
    {
     "data": {
      "image/png": "[encoded data removed]",
      "text/plain": [
       "<Figure size 432x288 with 1 Axes>"
      ]
     },
     "metadata": {
      "needs_background": "light"
     },
     "output_type": "display_data"
    }
   ],
   "source": [
    "plt.plot(nao_st_nov_era5.init_year, nao_st_nov_era5)\n",
    "plt.plot(nao_st_nov_dple.init_year, nao_st_nov_dple.mean('M'))"
   ]
  },
  {
   "cell_type": "code",
   "execution_count": 253,
   "id": "25862f80-0501-48be-bbfb-386b2ff080e5",
   "metadata": {},
   "outputs": [
    {
     "name": "stdout",
     "output_type": "stream",
     "text": [
      "<xarray.DataArray 'init_year' (init_year: 64)>\n",
      "array([1954, 1955, 1956, 1957, 1958, 1959, 1960, 1961, 1962, 1963, 1964, 1965,\n",
      "       1966, 1967, 1968, 1969, 1970, 1971, 1972, 1973, 1974, 1975, 1976, 1977,\n",
      "       1978, 1979, 1980, 1981, 1982, 1983, 1984, 1985, 1986, 1987, 1988, 1989,\n",
      "       1990, 1991, 1992, 1993, 1994, 1995, 1996, 1997, 1998, 1999, 2000, 2001,\n",
      "       2002, 2003, 2004, 2005, 2006, 2007, 2008, 2009, 2010, 2011, 2012, 2013,\n",
      "       2014, 2015, 2016, 2017])\n",
      "Coordinates:\n",
      "    season     datetime64[ns] 1971-01-15\n",
      "  * init_year  (init_year) int64 1954 1955 1956 1957 ... 2014 2015 2016 2017\n"
     ]
    }
   ],
   "source": [
    "print(nao_st_nov_era5.init_year)"
   ]
  },
  {
   "cell_type": "code",
   "execution_count": null,
   "id": "76f50c36-8e54-422d-8109-dc18342c5b3d",
   "metadata": {},
   "outputs": [],
   "source": []
  }
 ],
 "metadata": {
  "kernelspec": {
   "display_name": "Python [conda env:miniconda3-ecpaperenv]",
   "language": "python",
   "name": "conda-env-miniconda3-ecpaperenv-py"
  },
  "language_info": {
   "codemirror_mode": {
    "name": "ipython",
    "version": 3
   },
   "file_extension": ".py",
   "mimetype": "text/x-python",
   "name": "python",
   "nbconvert_exporter": "python",
   "pygments_lexer": "ipython3",
   "version": "3.6.11"
  }
 },
 "nbformat": 4,
 "nbformat_minor": 5
}
